{
  "nbformat": 4,
  "nbformat_minor": 0,
  "metadata": {
    "kernelspec": {
      "display_name": "Python 3",
      "language": "python",
      "name": "python3"
    },
    "language_info": {
      "codemirror_mode": {
        "name": "ipython",
        "version": 2
      },
      "file_extension": ".py",
      "mimetype": "text/x-python",
      "name": "python",
      "nbconvert_exporter": "python",
      "pygments_lexer": "ipython2",
      "version": "2.7.6"
    },
    "colab": {
      "provenance": [],
      "include_colab_link": true
    }
  },
  "cells": [
    {
      "cell_type": "markdown",
      "metadata": {
        "id": "view-in-github",
        "colab_type": "text"
      },
      "source": [
        "<a href=\"https://colab.research.google.com/github/Hamilton-at-CapU/comp215/blob/main/lessons/week02-data-structures.ipynb\" target=\"_parent\"><img src=\"https://colab.research.google.com/assets/colab-badge.svg\" alt=\"Open In Colab\"/></a>"
      ]
    },
    {
      "cell_type": "markdown",
      "source": [
        "# Sequence and Map data structures - Strings, Tuples, Lists, Dictionaries\n",
        "Our week 2 lesson workbook, available on Github from the Hamilton-at-CapU/comp215 repository.\n",
        "\n",
        "As usual, the first code block just imports the modules we will use."
      ],
      "metadata": {
        "id": "WBMC0GrjNRTM"
      }
    },
    {
      "cell_type": "code",
      "execution_count": 1,
      "metadata": {
        "id": "C1a6aDXAM0WM"
      },
      "outputs": [],
      "source": [
        "import datetime\n",
        "from pprint import pprint"
      ]
    },
    {
      "cell_type": "markdown",
      "source": [
        "## f-strings\n",
        "A `string` is a sequence of characters / symbols.\n",
        "This familiar data structure is quite powerful, and format-strings (f-strings) take it to the next level...."
      ],
      "metadata": {
        "collapsed": false,
        "pycharm": {
          "name": "#%% md\n"
        },
        "id": "lc_H-8sDfrIj"
      }
    },
    {
      "cell_type": "code",
      "execution_count": 2,
      "outputs": [
        {
          "output_type": "execute_result",
          "data": {
            "text/plain": [
              "'0 is not special, but 42 and 3.1415926535 are!'"
            ],
            "application/vnd.google.colaboratory.intrinsic+json": {
              "type": "string"
            }
          },
          "metadata": {},
          "execution_count": 2
        }
      ],
      "source": [
        "today = datetime.date.today()\n",
        "the_answer = 42\n",
        "PI = 3.1415926535\n",
        "\n",
        "# make the next line an f-string that will replace the variable\n",
        "# names today, the_answer and PI with their values\n",
        "f'{today.weekday()} is not special, but {the_answer} and {PI} are!'\n"
      ],
      "metadata": {
        "pycharm": {
          "name": "#%%\n"
        },
        "id": "F5-jAvGffrIj",
        "outputId": "159341fb-f4c2-4d4a-9f0e-41142f2bb84a",
        "colab": {
          "base_uri": "https://localhost:8080/",
          "height": 35
        }
      }
    },
    {
      "cell_type": "code",
      "source": [
        "# tell me what day of the week it is\n",
        "print(f'Today is {today.weekday()}')\n",
        "\n",
        "# use calendar module tell me today is monday\n",
        "import calendar\n",
        "print(f'Today is {calendar.day_name[today.weekday()]}')"
      ],
      "metadata": {
        "id": "iKldrGDb73LR",
        "outputId": "46b78c82-99dd-4466-8f0f-8abcfd4bfd9e",
        "colab": {
          "base_uri": "https://localhost:8080/"
        }
      },
      "execution_count": 3,
      "outputs": [
        {
          "output_type": "stream",
          "name": "stdout",
          "text": [
            "Today is 0\n",
            "Today is Monday\n"
          ]
        }
      ]
    },
    {
      "cell_type": "markdown",
      "source": [
        "## List Comprehension\n",
        "Provides a compact syntax for two very common sequence-processing algorithms:  Map  and Filter\n",
        "\n",
        "Basic syntax: ```[f(x) for x in C if g(x)]```\n"
      ],
      "metadata": {
        "id": "k70NJ-JTNwYN"
      }
    },
    {
      "cell_type": "markdown",
      "source": [
        "### Map Algorithm\n",
        "A *map* applies the same function to every item in another sequence (i.e., provide a \"mapping\" from the source sequence to the target)"
      ],
      "metadata": {
        "collapsed": false,
        "pycharm": {
          "name": "#%% md\n"
        },
        "id": "cOsbpC7nfrIk"
      }
    },
    {
      "cell_type": "code",
      "source": [
        "# a basic map\n",
        "data = [1,2,3,4,5,6]\n",
        "squares = []\n",
        "for n in data:\n",
        "  squares.append(n**2)\n",
        "print(f'the squares of {data} are {squares}')\n",
        "\n",
        "# Problem: write the above map loop as a list comprehension\n",
        "print(f'the squares of {data} are {[n**2 for n in data]}')"
      ],
      "metadata": {
        "id": "HZSz8IftqJ72",
        "colab": {
          "base_uri": "https://localhost:8080/"
        },
        "outputId": "583008f6-8954-4188-854a-2bb3df560517"
      },
      "execution_count": 4,
      "outputs": [
        {
          "output_type": "stream",
          "name": "stdout",
          "text": [
            "the squares of [1, 2, 3, 4, 5, 6] are [1, 4, 9, 16, 25, 36]\n",
            "the squares of [1, 2, 3, 4, 5, 6] are [1, 4, 9, 16, 25, 36]\n"
          ]
        }
      ]
    },
    {
      "cell_type": "markdown",
      "source": [
        "### Filter\n",
        "A *filter* selects a sub-set of the elements from another sequence based on some criteria."
      ],
      "metadata": {
        "collapsed": false,
        "pycharm": {
          "name": "#%% md\n"
        },
        "id": "PoqXTq1tfrIk"
      }
    },
    {
      "cell_type": "code",
      "execution_count": 5,
      "outputs": [
        {
          "output_type": "stream",
          "name": "stdout",
          "text": [
            "['o', 'e', 'i', 'u', 'o', 'o', 'i', 'a', 'e', 'o', 'e', 'e', 'u', 'a', 'i', 'i', 'i', 'e', 'i', 'e', 'o', 'e', 'i', 'u', 'o', 'e', 'o', 'i', 'i', 'i', 'u', 'u', 'a', 'o', 'e', 'e', 'o', 'o', 'e', 'a', 'a', 'a', 'i', 'u', 'a', 'e', 'i', 'a', 'i', 'i', 'e', 'i', 'a', 'u', 'i', 'o', 'u', 'e', 'e', 'i', 'a', 'i', 'o', 'u', 'a', 'o', 'a', 'o', 'i', 'i', 'i', 'u', 'a', 'i', 'u', 'i', 'e', 'e', 'a', 'o', 'o', 'o', 'o', 'e', 'u', 'a']\n",
            "['o', 'e', 'i', 'u', 'o', 'o', 'i', 'a', 'e', 'o', 'e', 'e', 'u', 'a', 'i', 'i', 'i', 'e', 'i', 'e', 'o', 'e', 'i', 'u', 'o', 'e', 'o', 'i', 'i', 'i', 'u', 'u', 'a', 'o', 'e', 'e', 'o', 'o', 'e', 'a', 'a', 'a', 'i', 'u', 'a', 'e', 'i', 'a', 'i', 'i', 'e', 'i', 'a', 'u', 'i', 'o', 'u', 'e', 'e', 'i', 'a', 'i', 'o', 'u', 'a', 'o', 'a', 'o', 'i', 'i', 'i', 'u', 'a', 'i', 'u', 'i', 'e', 'e', 'a', 'o', 'o', 'o', 'o', 'e', 'u', 'a']\n"
          ]
        }
      ],
      "source": [
        "# a filter\n",
        "\n",
        "VOWELS = 'aeiou'\n",
        "text = '''\n",
        "Lorem ipsum dolor sit amet, consectetur adipiscing elit, sed do eiusmod tempor incididunt ut labore et dolore magna aliqua. Ut enim ad minim veniam, quis nostrud exercitation ullamco laboris nisi ut aliquip ex ea commodo consequat.\n",
        "'''\n",
        "\n",
        "# Problem: use list comprehension to create a list with just the vowels from the text, in the order they appear in the text.\n",
        "vowels = []\n",
        "for char in text:\n",
        "  if char in VOWELS:\n",
        "    vowels += char\n",
        "print(vowels)\n",
        "\n",
        "print([letter for letter in text if letter in VOWELS])"
      ],
      "metadata": {
        "pycharm": {
          "name": "#%%\n"
        },
        "id": "GxuaEMKLfrIk",
        "outputId": "ce372ad7-6498-481c-f4e8-e91b1a814a89",
        "colab": {
          "base_uri": "https://localhost:8080/"
        }
      }
    },
    {
      "cell_type": "markdown",
      "source": [
        "### Functions\n",
        "\n",
        "List comprehension can be used with user defined functions."
      ],
      "metadata": {
        "id": "UqDHuvkWmv_g"
      }
    },
    {
      "cell_type": "code",
      "source": [
        "# list comprehension with functions\n",
        "data = [1,2,3,4,5,6]\n",
        "squares = []\n",
        "\n",
        "def square(x):\n",
        "  ''' Return the square of x. '''\n",
        "  return x*x\n",
        "\n",
        "def even(x):\n",
        "  ''' Return True iff x is even. '''\n",
        "  return x%2==0\n",
        "\n",
        "# a loop that makes a list of the squares of even numbers in data\n",
        "for n in data:\n",
        "  if even(n):\n",
        "    squares.append(square(n))\n",
        "print(f'the squares of even numbers in {data} are {squares}')\n",
        "\n",
        "\n",
        "# Problem: write the above map with filter loop as a list comprehension using the square() and even() functions\n",
        "even_squares = [square(n) for n in data if even(n)]\n",
        "print(f'the squares of even numbers in {data} are {even_squares}')"
      ],
      "metadata": {
        "id": "A_gueVFNj7hj",
        "outputId": "8dc8d393-6058-4337-cba0-6f0e638ced78",
        "colab": {
          "base_uri": "https://localhost:8080/"
        }
      },
      "execution_count": 6,
      "outputs": [
        {
          "output_type": "stream",
          "name": "stdout",
          "text": [
            "the squares of even numbers in [1, 2, 3, 4, 5, 6] are [4, 16, 36]\n",
            "the squares of even numbers in [1, 2, 3, 4, 5, 6] are [4, 16, 36]\n"
          ]
        }
      ]
    },
    {
      "cell_type": "markdown",
      "source": [
        "## Data Wrangling with List Comprehension\n",
        "E-learn's Live Quiz module does track quiz scores for each student, but does not store them in the gradebook,\n",
        "and it reports on them in the most useless way.  Let's do some \"data wrangling\" to make sense out of this mess!\n",
        "\n"
      ],
      "metadata": {
        "collapsed": false,
        "pycharm": {
          "name": "#%% md\n"
        },
        "id": "ltcd27ZlfrIk"
      }
    },
    {
      "cell_type": "code",
      "execution_count": 7,
      "outputs": [],
      "source": [
        "data = \"\"\"\n",
        "  1.                 Ali Oop scored  7/ 8 = 87%\n",
        "\n",
        "\n",
        "  2.         Amolak Singh . scored  8/ 8 = 100%\n",
        "\n",
        "\n",
        "  3.  Arshan Risnot Farquared scored  5/ 8 = 62%\n",
        "\n",
        "\n",
        "  4.       Ayushma Jugernaugh scored  5/ 8 = 62%\n",
        "\n",
        "\n",
        "  5.       Brayden Labaguette scored  7/ 8 = 87%\n",
        "\"\"\""
      ],
      "metadata": {
        "collapsed": true,
        "pycharm": {
          "name": "#%%\n"
        },
        "id": "euvfVg9bfrIk"
      }
    },
    {
      "cell_type": "markdown",
      "source": [
        "\n",
        "Notice it is just a single large string (ie. unstructured).  The real data set has 36 students and needs to be parsed every week, so some structure would be helpful...\n",
        "\n",
        "Turn this into *structured* data: a list of 2-tuples, each student's full name and their integer score."
      ],
      "metadata": {
        "collapsed": false,
        "pycharm": {
          "name": "#%% md\n"
        },
        "id": "7RCZC0Z4frIl"
      }
    },
    {
      "cell_type": "code",
      "execution_count": 9,
      "outputs": [
        {
          "output_type": "stream",
          "name": "stdout",
          "text": [
            "[['1.', 'Ali', 'Oop', 'scored', '7/', '8', '=', '87%'], ['2.', 'Amolak', 'Singh', '.', 'scored', '8/', '8', '=', '100%'], ['3.', 'Arshan', 'Risnot', 'Farquared', 'scored', '5/', '8', '=', '62%'], ['4.', 'Ayushma', 'Jugernaugh', 'scored', '5/', '8', '=', '62%'], ['5.', 'Brayden', 'Labaguette', 'scored', '7/', '8', '=', '87%']]\n",
            "[7, 8, 5, 5, 7]\n",
            "['Ali Oop', 'Amolak Singh .', 'Arshan Risnot Farquared', 'Ayushma Jugernaugh', 'Brayden Labaguette']\n"
          ]
        },
        {
          "output_type": "execute_result",
          "data": {
            "text/plain": [
              "[('Ali Oop', 7),\n",
              " ('Amolak Singh .', 8),\n",
              " ('Arshan Risnot Farquared', 5),\n",
              " ('Ayushma Jugernaugh', 5),\n",
              " ('Brayden Labaguette', 7)]"
            ]
          },
          "metadata": {},
          "execution_count": 9
        }
      ],
      "source": [
        "# Problem: turn the above unstructured data into a structured data (a list of 2-tuples with full name and score) using list comprehension in each of the following steps\n",
        "\n",
        "# 1. make a list of records, where each record is a list of words for that student\n",
        "#    example: [['1.', 'Ali', 'Oop', 'scored', '7/', '8', '=', '87%'], ... ]\n",
        "students = [s.split() for s in data.split('\\n') if s]\n",
        "print(students)\n",
        "\n",
        "# 2. make a list of scores for the student in each line\n",
        "#    example: [7, 8, 5, 5, 7]\n",
        "scores = [int(s[-4].rstrip('/')) for s in students]\n",
        "print(scores)\n",
        "\n",
        "# 3. make a list of names for the student in each line\n",
        "#    example: ['Ali Oop', 'Amolak Singh .', 'Arshan Risnot Farquared', 'Ayushma Jugernaugh', 'Brayden Labaguette']\n",
        "names = [' '.join(s[1:-5]) for s in students]\n",
        "print(names)\n",
        "\n",
        "# 4. zip the scores and names lists\n",
        "#    example: [('Ali Oop', 7), ('Amolak Singh .', 8), ('Arshan Risnot Farquared', 5), ('Ayushma Jugernaugh', 5), ('Brayden Labaguette', 7)]\n",
        "list(zip(names, scores))\n"
      ],
      "metadata": {
        "pycharm": {
          "name": "#%%\n"
        },
        "id": "2Ieo-_DPfrIl",
        "outputId": "9c6cbefe-35e3-4822-b913-e010478f6e50",
        "colab": {
          "base_uri": "https://localhost:8080/"
        }
      }
    },
    {
      "cell_type": "markdown",
      "source": [
        "## Records\n",
        "A *record* is a compound data value - a collection of simpler data values (fields) that all describe a single entity.  The above is an example of a tuple as a data record.  Dictionaries can create records that are easier to understand.\n"
      ],
      "metadata": {
        "collapsed": false,
        "id": "vT5weJDvfrIl"
      }
    },
    {
      "cell_type": "code",
      "source": [
        "# Problem: develop a dictionary data representation for the above data, where the name is the key and the grade is the value\n",
        "dict(zip(names, scores))"
      ],
      "metadata": {
        "id": "Ai9qb3Bolw4h",
        "outputId": "9ccd9a5c-2a9f-48b0-91cd-c330270b7218",
        "colab": {
          "base_uri": "https://localhost:8080/"
        }
      },
      "execution_count": 10,
      "outputs": [
        {
          "output_type": "execute_result",
          "data": {
            "text/plain": [
              "{'Ali Oop': 7,\n",
              " 'Amolak Singh .': 8,\n",
              " 'Arshan Risnot Farquared': 5,\n",
              " 'Ayushma Jugernaugh': 5,\n",
              " 'Brayden Labaguette': 7}"
            ]
          },
          "metadata": {},
          "execution_count": 10
        }
      ]
    },
    {
      "cell_type": "code",
      "execution_count": 11,
      "outputs": [],
      "source": [
        "# Challenge Problem: develop an object data representation for the above data (ie. define your own class)\n",
        "\n",
        "\n"
      ],
      "metadata": {
        "pycharm": {
          "name": "#%%\n"
        },
        "id": "oSzmxeBtfrIl"
      }
    }
  ]
}