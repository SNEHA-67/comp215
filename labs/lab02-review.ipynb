{
  "nbformat": 4,
  "nbformat_minor": 0,
  "metadata": {
    "kernelspec": {
      "display_name": "Python 3",
      "language": "python",
      "name": "python3"
    },
    "language_info": {
      "codemirror_mode": {
        "name": "ipython",
        "version": 2
      },
      "file_extension": ".py",
      "mimetype": "text/x-python",
      "name": "python",
      "nbconvert_exporter": "python",
      "pygments_lexer": "ipython2",
      "version": "2.7.6"
    },
    "colab": {
      "provenance": [],
      "include_colab_link": true
    }
  },
  "cells": [
    {
      "cell_type": "markdown",
      "metadata": {
        "id": "view-in-github",
        "colab_type": "text"
      },
      "source": [
        "<a href=\"https://colab.research.google.com/github/SNEHA-67/comp215/blob/main/labs/lab02-review.ipynb\" target=\"_parent\"><img src=\"https://colab.research.google.com/assets/colab-badge.svg\" alt=\"Open In Colab\"/></a>"
      ]
    },
    {
      "cell_type": "markdown",
      "source": [
        "COMP 215 - LAB 2\n",
        "----------------\n",
        "#### Name(s): Sneha & Manmeet Sharma\n",
        "#### Date: 15-01-25\n",
        "\n",
        "By the end of this lab you should be able to:\n",
        "  * use strings, tuples, lists, and dictionaries (review)\n",
        "  * use *f-string* to simplify string formatting operations\n",
        "  * write functions and simple unit tests (review)\n",
        "  * use *list comprehension* to implement map and filter algorithms\n",
        "\n",
        "\n",
        "During this lab, you will be introduced to the following:\n",
        "  * API Keys\n",
        "  * JSON data formats\n",
        "  * the `datetime` module to represent dates and times\n",
        "  * the `pprint` module to format data structures"
      ],
      "metadata": {
        "id": "nbRPZPKZU5Pk"
      }
    },
    {
      "cell_type": "markdown",
      "source": [
        "## Near Earth Objects\n",
        "\n",
        "In this lab, we'll answer some questions about [Near Earth Objects](https://cneos.jpl.nasa.gov/) using NASA's API:  [https://api.nasa.gov/](https://api.nasa.gov/#NeoWS).  But, as usual, let's do the imports first.\n"
      ],
      "metadata": {
        "id": "UtWS08rgocwz"
      }
    },
    {
      "cell_type": "code",
      "execution_count": null,
      "outputs": [],
      "source": [
        "import datetime, json, requests\n",
        "from pprint import pprint    # Pretty Print - built-in python function to nicely format data structures"
      ],
      "metadata": {
        "pycharm": {
          "name": "#%%\n"
        },
        "ExecuteTime": {
          "end_time": "2024-01-04T04:05:38.688434Z",
          "start_time": "2024-01-04T04:05:38.640552Z"
        },
        "id": "uckgiW6LmxA_"
      }
    },
    {
      "cell_type": "markdown",
      "source": [
        "### dates & f-strings\n",
        "\n",
        "First we need a short tutorial on python dates and [f-strings](https://realpython.com/python-f-strings/)..."
      ],
      "metadata": {
        "collapsed": false,
        "pycharm": {
          "name": "#%% md\n"
        },
        "id": "z7R9AVbYmxBA"
      }
    },
    {
      "cell_type": "code",
      "execution_count": null,
      "outputs": [
        {
          "output_type": "stream",
          "name": "stdout",
          "text": [
            "2024-12-27 <class 'datetime.date'>\n",
            "Today is: 2024-12-27\n"
          ]
        }
      ],
      "source": [
        "today = datetime.date.today()   # get a date object representing today's date\n",
        "print(today, type(today))\n",
        "formatted_date = f'Today is: {today}'   # A format string - notice how the variable `today` is formatted into the string\n",
        "print(formatted_date)"
      ],
      "metadata": {
        "pycharm": {
          "name": "#%%\n"
        },
        "ExecuteTime": {
          "end_time": "2024-01-04T04:05:38.691283Z",
          "start_time": "2024-01-04T04:05:38.688366Z"
        },
        "colab": {
          "base_uri": "https://localhost:8080/"
        },
        "id": "FIqwOe5SmxBA",
        "outputId": "1d6a64d8-c209-4691-ab98-6b7c872eba3b"
      }
    },
    {
      "cell_type": "markdown",
      "source": [
        "### Make an API Query\n",
        "\n",
        "Let's get some data from the NEO database; here's a query that gets the observation \"feed\" for today.  Notice the first line of the block is an 'API key'.  An API key is a unique identifier that authenticates a user when making a request to an API.  Run the block below using the API key 'DEMO_KEY' (just to be sure it works), then go to https://api.nasa.gov and get your own API key.  Use your own API key for the remainder of the lab."
      ],
      "metadata": {
        "collapsed": false,
        "pycharm": {
          "name": "#%% md\n"
        },
        "id": "NyY93KiOmxBB"
      }
    },
    {
      "cell_type": "code",
      "execution_count": 9,
      "outputs": [
        {
          "output_type": "stream",
          "name": "stdout",
          "text": [
            "16 Near Earth Objects found for 2023-01-13\n",
            "[{'absolute_magnitude_h': 18.63,\n",
            "  'close_approach_data': [{'close_approach_date': '2023-01-13',\n",
            "                           'close_approach_date_full': '2023-Jan-13 15:15',\n",
            "                           'epoch_date_close_approach': 1673622900000,\n",
            "                           'miss_distance': {'astronomical': '0.085187868',\n",
            "                                             'kilometers': '12743923.60264116',\n",
            "                                             'lunar': '33.138080652',\n",
            "                                             'miles': '7918706.931361608'},\n",
            "                           'orbiting_body': 'Earth',\n",
            "                           'relative_velocity': {'kilometers_per_hour': '27432.9518246356',\n",
            "                                                 'kilometers_per_second': '7.6202643957',\n",
            "                                                 'miles_per_hour': '17045.7694268132'}}],\n",
            "  'estimated_diameter': {'feet': {'estimated_diameter_max': 3664.5869441533,\n",
            "                                  'estimated_diameter_min': 1638.853103317},\n",
            "                         'kilometers': {'estimated_diameter_max': 1.1169660648,\n",
            "                                        'estimated_diameter_min': 0.4995224099},\n",
            "                         'meters': {'estimated_diameter_max': 1116.966064835,\n",
            "                                    'estimated_diameter_min': 499.5224099063},\n",
            "                         'miles': {'estimated_diameter_max': 0.6940503207,\n",
            "                                   'estimated_diameter_min': 0.3103887394}},\n",
            "  'id': '2162385',\n",
            "  'is_potentially_hazardous_asteroid': False,\n",
            "  'is_sentry_object': False,\n",
            "  'links': {'self': 'http://api.nasa.gov/neo/rest/v1/neo/2162385?api_key=DEMO_KEY'},\n",
            "  'name': '162385 (2000 BM19)',\n",
            "  'nasa_jpl_url': 'https://ssd.jpl.nasa.gov/tools/sbdb_lookup.html#/?sstr=2162385',\n",
            "  'neo_reference_id': '2162385'}]\n"
          ]
        }
      ],
      "source": [
        "import requests, json, pprint\n",
        "from pprint import pprint\n",
        "API_KEY = 'DEMO_KEY'  # substitute your API key here\n",
        "\n",
        "# get today's date (as a string)\n",
        "#today = str(datetime.date.today())\n",
        "today = '2023-01-13'\n",
        "\n",
        "# use an f-string to \"format\" the date and API key varaibles.\n",
        "url = f'https://api.nasa.gov/neo/rest/v1/feed?start_date={today}&end_date={today}&api_key={API_KEY}'\n",
        "\n",
        "# make the API request (recall from lab 1)\n",
        "response = requests.request(\"GET\",url, headers={}, data={})\n",
        "\n",
        "# convert the response to json format (recall from lab 1)\n",
        "data = json.loads(response.text)\n",
        "\n",
        "# TIP: print(data) to see the whole data structure returned, here we grab just the list of NEO's:\n",
        "n_results = data['element_count']\n",
        "neos = data['near_earth_objects'][today]\n",
        "print(f'{n_results} Near Earth Objects found for {today}')\n",
        "pprint(neos[:1])"
      ],
      "metadata": {
        "collapsed": true,
        "pycharm": {
          "name": "#%%\n"
        },
        "ExecuteTime": {
          "end_time": "2024-01-04T04:05:43.064157Z",
          "start_time": "2024-01-04T04:05:38.691252Z"
        },
        "id": "vZYx2VfXmxBB",
        "colab": {
          "base_uri": "https://localhost:8080/"
        },
        "outputId": "210a65bd-34dc-496d-8f42-2d82cd99c003"
      }
    },
    {
      "cell_type": "markdown",
      "source": [
        "Next we extract just the potentially hazerdous asteroids, using a Comp115-style list accumulator *loop*:"
      ],
      "metadata": {
        "collapsed": false,
        "pycharm": {
          "name": "#%% md\n"
        },
        "id": "g7VOkS2PmxBB"
      }
    },
    {
      "cell_type": "code",
      "execution_count": 10,
      "metadata": {
        "id": "JDGbYTySU3BP",
        "ExecuteTime": {
          "end_time": "2024-01-04T04:05:43.065108Z",
          "start_time": "2024-01-04T04:05:43.062239Z"
        },
        "colab": {
          "base_uri": "https://localhost:8080/"
        },
        "outputId": "a71a1a9c-e2b6-4b27-e6fd-750a4b46eb4b"
      },
      "outputs": [
        {
          "output_type": "stream",
          "name": "stdout",
          "text": [
            "1 potentially hazardous asteroids identified.\n"
          ]
        }
      ],
      "source": [
        "hazards =  []\n",
        "for item in neos:\n",
        "  if item['is_potentially_hazardous_asteroid'] is True:\n",
        "    hazards.append(item)\n",
        "print(f'{len(hazards)} potentially hazardous asteroids identified.')"
      ]
    },
    {
      "cell_type": "markdown",
      "source": [
        "### Fetch Complete Data for One Asteroid\n",
        "\n",
        "Notice that the record for each `neo` is a dictionary with `id` field that uniquely identifies this record in the database.  We can use this `id` to fetch complete orbital and close approach data for the NEO.  For example, this query fetches the complete data set for the first hazardous asteroid...  Notice that the `miss_distance` field contains the distance (in various units) by which the NEO missed an \"orbiting body\".\n"
      ],
      "metadata": {
        "collapsed": false,
        "pycharm": {
          "name": "#%% md\n"
        },
        "id": "Um5gAiVTmxBC"
      }
    },
    {
      "cell_type": "code",
      "execution_count": null,
      "outputs": [],
      "source": [
        "id = hazards[0]['id']\n",
        "url = f'https://api.nasa.gov/neo/rest/v1/neo/{id}?api_key={API_KEY}'\n",
        "response = requests.request(\"GET\", url, headers={}, data={})\n",
        "data = json.loads(response.text)\n",
        "\n",
        "pprint(data)"
      ],
      "metadata": {
        "collapsed": true,
        "pycharm": {
          "name": "#%%\n"
        },
        "ExecuteTime": {
          "end_time": "2024-01-04T04:05:43.787125Z",
          "start_time": "2024-01-04T04:05:43.067936Z"
        },
        "id": "NVRl3l7EmxBC"
      }
    },
    {
      "cell_type": "markdown",
      "source": [
        "## Exercise 1\n",
        "\n",
        "In the code cell below, **re-write the accumulator loop** that creates the list of hazards as a [list comprehension](https://realpython.com/lessons/list-comprehensions-overview/) that implements a [\"filter\"](https://youtu.be/hUes6y2b--0)\n",
        "Notice how this provides a concise way to \"filter\" items of interest from a larger data set."
      ],
      "metadata": {
        "collapsed": false,
        "pycharm": {
          "name": "#%% md\n"
        },
        "id": "93ns5r8gmxBB"
      }
    },
    {
      "cell_type": "code",
      "execution_count": 11,
      "outputs": [
        {
          "output_type": "stream",
          "name": "stdout",
          "text": [
            "1 potentially hazardous asteroids identified.\n"
          ]
        }
      ],
      "source": [
        "# Ex. 1 your code here\n",
        "# Using a list comprehension to filter hazardous asteroids\n",
        "hazards = [item for item in neos if item['is_potentially_hazardous_asteroid'] is True]\n",
        "\n",
        "print(f'{len(hazards)} potentially hazardous asteroids identified.')\n"
      ],
      "metadata": {
        "pycharm": {
          "name": "#%%\n"
        },
        "ExecuteTime": {
          "end_time": "2024-01-04T04:05:43.069849Z",
          "start_time": "2024-01-04T04:05:43.065922Z"
        },
        "id": "ewkwkc8wmxBB",
        "colab": {
          "base_uri": "https://localhost:8080/"
        },
        "outputId": "8c3b92c6-48bf-4778-f29d-d77c847dd978"
      }
    },
    {
      "cell_type": "markdown",
      "source": [
        "\n",
        "\n",
        "## Exercise 2\n",
        "\n",
        "In the code cell below, write a python function that takes a list of \"close approach data\" as a parameter,\n",
        "and returns a 2-tuple with the (date, miss km) of the closest approach to Earth in the list (where \"miss km\" is the miss distance in km).\n",
        "\n",
        "Hints:\n",
        "* notice the input is a list of dictionaries.  Each dictionary has a 'close_approach_date\", \"orbiting_body\", and 'miss_distance' field.\n",
        "* we are only interested in the closest approach to \"Earth\"\n",
        "* use a loop if that is easier to understand - we will look at more compact algorithms to solve this problem in class.\n",
        "\n",
        "Add at least one unit test to check your work - note the test data only needs dictionaries with the fields your function actually uses.\n"
      ],
      "metadata": {
        "id": "DNRs7ynOYwYk"
      }
    },
    {
      "cell_type": "code",
      "source": [
        "# Ex. 2 your code here\n",
        "def closest_approach(data):\n",
        "    \"\"\"\n",
        "    Finds the closest approach to Earth in the given list of close approach data.\n",
        "\n",
        "    Parameters:\n",
        "        data (list): A list of dictionaries, where each dictionary contains\n",
        "                     'close_approach_date', 'orbiting_body', and 'miss_distance'.\n",
        "\n",
        "    Returns:\n",
        "        tuple: A 2-tuple (date, miss_km) representing the date and miss distance of the closest approach.\n",
        "    \"\"\"\n",
        "    closest_date = None\n",
        "    closest_miss_km = float('inf')  # Start with an infinitely large distance\n",
        "\n",
        "    for entry in data:\n",
        "        # Check if the orbiting body is Earth\n",
        "        if entry['orbiting_body'] == 'Earth':\n",
        "            # Convert the miss distance to a float for comparison\n",
        "            miss_km = float(entry['miss_distance']['kilometers'])\n",
        "            if miss_km < closest_miss_km:\n",
        "                closest_miss_km = miss_km\n",
        "                closest_date = entry['close_approach_date']\n",
        "\n",
        "    return closest_date, closest_miss_km\n",
        "\n",
        "# Unit Test\n",
        "test_data = [\n",
        "    {'close_approach_date': '2023-01-09', 'orbiting_body': 'Earth', 'miss_distance': {'kilometers': '384400'}},\n",
        "    {'close_approach_date': '2023-01-10', 'orbiting_body': 'Mars', 'miss_distance': {'kilometers': '500000'}},\n",
        "    {'close_approach_date': '2023-01-11', 'orbiting_body': 'Earth', 'miss_distance': {'kilometers': '350000'}},\n",
        "    {'close_approach_date': '2023-01-12', 'orbiting_body': 'Earth', 'miss_distance': {'kilometers': '400000'}}\n",
        "]\n",
        "\n",
        "# Expected closest approach is the one with '2023-01-11' and distance 350,000 km\n",
        "result = closest_approach(test_data)\n",
        "print(\"Closest approach:\", result)\n",
        "\n",
        "# Output: ('2023-01-11', 350000.0)\n"
      ],
      "metadata": {
        "id": "tiyXTDfnZAd0",
        "ExecuteTime": {
          "end_time": "2024-01-04T04:05:43.790535Z",
          "start_time": "2024-01-04T04:05:43.787064Z"
        },
        "colab": {
          "base_uri": "https://localhost:8080/"
        },
        "outputId": "4a198b5f-29db-4518-a8cc-7369913ecc22"
      },
      "execution_count": 12,
      "outputs": [
        {
          "output_type": "stream",
          "name": "stdout",
          "text": [
            "Closest approach: ('2023-01-11', 350000.0)\n"
          ]
        }
      ]
    },
    {
      "cell_type": "markdown",
      "source": [
        "## Challenge Exercise\n",
        "\n",
        "In the code cell below, write a complete program that:\n",
        " 1. fetches the list of NEO's for this week.\n",
        " 2. for each NEO, fetch it's complete orbital data and determine its closest approach to Earth\n",
        " 3. identify which NEO from this week's data makes the closet approach to earth\n",
        " 4. print a nice message with information about the NEO, which it will approach the Earth, and how close it will come.\n",
        "\n",
        "Hints:\n",
        "* you'll need the start and end date - end date is today, see if you can use a [`timedelta`](https://docs.python.org/3/library/datetime.html#timedelta-objects) object to ge the start date (you can do basic \"date math\" with `timedelta` and `date` objects!)\n",
        "* you may need to modify the function we wrote in Ex. 2 to return a triple with the NEO's id included;\n",
        "* lots of opportunity here for more practice with list comprehensions\n"
      ],
      "metadata": {
        "collapsed": false,
        "id": "BrVVSFCnmxBC"
      }
    },
    {
      "cell_type": "code",
      "source": [
        "# Ex. 3 (challenge) your code here\n",
        "import datetime\n",
        "import requests\n",
        "import json\n",
        "\n",
        "# NASA API Key (replace 'DEMO_KEY' with your own API key if available)\n",
        "API_KEY = 'DEMO_KEY'\n",
        "\n",
        "# Step 1: Calculate the date range for the week\n",
        "end_date = datetime.date.today()\n",
        "start_date = end_date - datetime.timedelta(days=7)\n",
        "\n",
        "# Format the start and end dates as strings\n",
        "start_date_str = str(start_date)\n",
        "end_date_str = str(end_date)\n",
        "\n",
        "# Function to fetch NEO data for the week\n",
        "def fetch_weekly_neos(start_date, end_date):\n",
        "    \"\"\"\n",
        "    Fetches the list of Near-Earth Objects (NEOs) for the given date range.\n",
        "    \"\"\"\n",
        "    url = f'https://api.nasa.gov/neo/rest/v1/feed?start_date={start_date}&end_date={end_date}&api_key={API_KEY}'\n",
        "    response = requests.get(url)\n",
        "    data = response.json()\n",
        "    neos = []\n",
        "    for date in data['near_earth_objects']:\n",
        "        neos.extend(data['near_earth_objects'][date])\n",
        "    return neos\n",
        "\n",
        "# Function to get the closest approach for a single NEO\n",
        "def closest_approach(neo_id):\n",
        "    \"\"\"\n",
        "    Fetches the complete orbital data for a specific NEO and finds its closest approach to Earth.\n",
        "    Returns a tuple (NEO ID, closest date, miss distance in km).\n",
        "    \"\"\"\n",
        "    url = f'https://api.nasa.gov/neo/rest/v1/neo/{neo_id}?api_key={API_KEY}'\n",
        "    response = requests.get(url)\n",
        "    neo_data = response.json()\n",
        "\n",
        "    # Ensure 'close_approach_data' exists\n",
        "    if 'close_approach_data' not in neo_data or not neo_data['close_approach_data']:\n",
        "        return neo_id, None, float('inf')  # Return no data if the field is missing\n",
        "\n",
        "    closest_date = None\n",
        "    closest_miss_km = float('inf')\n",
        "\n",
        "    # Loop through all close approach data\n",
        "    for approach in neo_data['close_approach_data']:\n",
        "        if approach['orbiting_body'] == 'Earth':\n",
        "            miss_km = float(approach['miss_distance']['kilometers'])\n",
        "            if miss_km < closest_miss_km:\n",
        "                closest_miss_km = miss_km\n",
        "                closest_date = approach['close_approach_date']\n",
        "\n",
        "    return neo_id, closest_date, closest_miss_km\n",
        "\n",
        "    # Step 3: Find closest approach for each NEO\n",
        "closest_approaches = []\n",
        "for neo in neos:\n",
        "    neo_id = neo['id']\n",
        "    neo_name = neo['name']\n",
        "    neo_data = closest_approach(neo_id)\n",
        "    closest_approaches.append((neo_name, *neo_data))\n",
        "\n",
        "# Step 4: Identify the NEO with the closest approach to Earth\n",
        "closest_neo = min(closest_approaches, key=lambda x: x[3])  # Compare by miss distance (index 3)\n",
        "\n",
        "# Step 5: Print a nice message with the result\n",
        "print(\"\\nClosest Approach This Week:\")\n",
        "print(f\"NEO Name: {closest_neo[0]}\")\n",
        "print(f\"NEO ID: {closest_neo[1]}\")\n",
        "print(f\"Closest Approach Date: {closest_neo[2]}\")\n",
        "print(f\"Miss Distance (km): {closest_neo[3]:,.2f}\")\n",
        "\n"
      ],
      "metadata": {
        "id": "Ds1YevErlzCe",
        "pycharm": {
          "name": "#%%\n"
        },
        "ExecuteTime": {
          "end_time": "2024-01-04T04:05:43.790766Z",
          "start_time": "2024-01-04T04:05:43.789211Z"
        },
        "colab": {
          "base_uri": "https://localhost:8080/"
        },
        "outputId": "91c4094e-0efa-417e-9468-f60187af9001"
      },
      "execution_count": 15,
      "outputs": [
        {
          "output_type": "stream",
          "name": "stdout",
          "text": [
            "\n",
            "Closest Approach This Week:\n",
            "NEO Name: 226514 (2003 UX34)\n",
            "NEO ID: 2226514\n",
            "Closest Approach Date: None\n",
            "Miss Distance (km): inf\n"
          ]
        }
      ]
    }
  ]
}