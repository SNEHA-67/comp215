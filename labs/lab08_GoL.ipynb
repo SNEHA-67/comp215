{
  "cells": [
    {
      "cell_type": "markdown",
      "metadata": {
        "id": "view-in-github",
        "colab_type": "text"
      },
      "source": [
        "<a href=\"https://colab.research.google.com/github/SNEHA-67/comp215/blob/main/labs/lab08_GoL.ipynb\" target=\"_parent\"><img src=\"https://colab.research.google.com/assets/colab-badge.svg\" alt=\"Open In Colab\"/></a>"
      ]
    },
    {
      "cell_type": "markdown",
      "metadata": {
        "collapsed": true,
        "pycharm": {
          "name": "#%% md\n"
        },
        "id": "JR_9eeigl5Vi"
      },
      "source": [
        "COMP 215 - LAB 6 (Game of Life)\n",
        "-----------------------------------------------\n",
        "#### Name: Sneha & Manmeet Sharma\n",
        "#### Date: 11-03-2025\n",
        "\n",
        "This lab exercise is an introduction to [Conway's Game of Life](https://en.wikipedia.org/wiki/Conway%27s_Game_of_Life) discovered and studied by [John Conway](https://en.wikipedia.org/wiki/John_Horton_Conway).\n",
        "\n",
        "**New Python concepts**:\n",
        "   * 2D numpy [array](https://numpy.org/doc/stable/reference/generated/numpy.array.html)\n",
        "   * basic [array operations](https://www.pluralsight.com/guides/overview-basic-numpy-operations)\n",
        "\n",
        "**New Computation concepts**:\n",
        "   * [2D sliding dot product](https://docs.scipy.org/doc/scipy/reference/generated/scipy.signal.correlate2d.html)\n",
        "   * [Animation](https://matplotlib.org/stable/api/animation_api.html)\n",
        "\n",
        "**Credits**:\n",
        "    Code examples based on [Think Complexity, 2nd edition](https://thinkcomplex.com).\n",
        "    Copyright 2016 Allen Downey, [MIT License](http://opensource.org/licenses/MIT)\n",
        "\n",
        "As usual, the first code cell simply imports all the modules we'll be using..."
      ]
    },
    {
      "cell_type": "code",
      "execution_count": 2,
      "outputs": [],
      "source": [
        "import time\n",
        "import matplotlib\n",
        "import matplotlib.pyplot as plt\n",
        "from matplotlib import animation\n",
        "import numpy as np\n",
        "from scipy.signal import correlate2d\n",
        "\n",
        "%matplotlib inline\n",
        "# Configure matplotlib's animation library to work in the browser.\n",
        "matplotlib.rc('animation', html='jshtml')"
      ],
      "metadata": {
        "pycharm": {
          "name": "#%%\n"
        },
        "ExecuteTime": {
          "end_time": "2024-01-06T00:59:30.713969Z",
          "start_time": "2024-01-06T00:59:29.426998Z"
        },
        "id": "aXEYCXADl5Vj"
      }
    },
    {
      "cell_type": "markdown",
      "source": [
        "A reusable function for plotting 2D numpy.array as an image..."
      ],
      "metadata": {
        "collapsed": false,
        "pycharm": {
          "name": "#%% md\n"
        },
        "id": "Vhcz38ROl5Vj"
      }
    },
    {
      "cell_type": "code",
      "execution_count": 3,
      "outputs": [],
      "source": [
        "def plot_2d_array(array, axes=None, title='', cmap='Blues', **options):\n",
        "    \"\"\"\n",
        "    Plot the 2D array as an image on the given axes  1's will be dark blue, 0's will be light blue.\n",
        "\n",
        "    :param axes: the axes to plot on, or None to use the `plt.gca()` (current axes)\n",
        "    :param options: keyword arguments passed directly to `plt.imshow()`\n",
        "           see https://matplotlib.org/stable/api/_as_gen/matplotlib.axes.Axes.imshow.html\n",
        "    \"\"\"\n",
        "    axes = axes or plt.gca()  # If not axes are provided, draw on current axes\n",
        "    axes.set_title(title)\n",
        "    # Turn off axes labels and tick marks\n",
        "    axes.tick_params(axis='both', which='both', bottom=False, top=False, left=False, right=False ,\n",
        "                     labelbottom=False, labeltop=False, labelleft=False, labelright=False,)\n",
        "    # Defaults for displaying a \"matrix\" with hard-pixel boundaries and (0,0) at top-left\n",
        "    options = {**dict(interpolation='nearest', origin='upper'), **options}\n",
        "    axes.imshow(array, cmap=cmap, **options)"
      ],
      "metadata": {
        "pycharm": {
          "name": "#%%\n"
        },
        "ExecuteTime": {
          "end_time": "2024-01-06T00:59:30.719129Z",
          "start_time": "2024-01-06T00:59:30.716251Z"
        },
        "id": "wehF3xozl5Vk"
      }
    },
    {
      "cell_type": "markdown",
      "source": [
        "## Life Fundamentals\n",
        "Both the textbook and our week6 notebooks develop some fundamental operations for simulating the Game of Life.\n",
        "Some of the code from `week6.ipynb` is reproduced here without deriving all the ideas - review `week6.ipynb` notebook for the full story.\n",
        "The sliding dot product algorithm in `step` is implemented with [scipy.signal.correlate2d](https://docs.scipy.org/doc/scipy/reference/generated/scipy.signal.correlate2d.html).  It's behaviour is identical to the derivation in `week6.ipynb`.\n",
        "\n",
        "#### Notes\n",
        "* we use `correlate2d(state, kernel, mode='same', boundary='wrap')` to pad state matrix with 1 value around perimeter from the opposite side of the matrix.\n",
        "* since the rule is a 1D `np.array`, we use \"vector indexing\" here to set the 'live' state transitions:  `next_state[[3, 12, 13]] = 1`"
      ],
      "metadata": {
        "collapsed": false,
        "pycharm": {
          "name": "#%% md\n"
        },
        "id": "HEq73Cb4l5Vk"
      }
    },
    {
      "cell_type": "code",
      "execution_count": 4,
      "outputs": [],
      "source": [
        "class Life2D:\n",
        "    \"\"\" An basic 2D Cellular Automata that implementes Conway's Game of Life \"\"\"\n",
        "    kernel = np.array([[1, 1, 1],\n",
        "                       [1, 10, 1],\n",
        "                       [1, 1, 1]])\n",
        "\n",
        "    next_state = np.zeros(19, dtype=np.uint8)\n",
        "    next_state[[3, 12, 13]] = 1\n",
        "\n",
        "    def __init__(self, n_rows, n_cols=None):\n",
        "        \"\"\" Construct a n_rows x n_cols 2D CA \"\"\"\n",
        "        n_cols = n_cols or n_rows  # i.e., n_cols if n_cols is not None and n_cols != 0 else n_rows\n",
        "        self.state = np.zeros(shape=(n_rows, n_cols), dtype=np.uint8)\n",
        "\n",
        "    def step(self):\n",
        "        \"\"\"Executes one time step. \"\"\"\n",
        "        transitions = correlate2d(self.state, self.kernel, mode='same', boundary='wrap')\n",
        "        self.state = self.next_state[transitions]\n",
        "\n",
        "    def draw(self, axes=None, step=''):\n",
        "        axes = axes or plt.gca()   # use pyplot's current axes if none are provided.\n",
        "        plot_2d_array(self.state, axes, title=f\"Conway's Game of Life {step}\")"
      ],
      "metadata": {
        "pycharm": {
          "name": "#%%\n"
        },
        "ExecuteTime": {
          "end_time": "2024-01-06T00:59:30.722229Z",
          "start_time": "2024-01-06T00:59:30.719978Z"
        },
        "id": "ds9nXQUGl5Vk"
      }
    },
    {
      "cell_type": "markdown",
      "source": [
        "### Visualizing a 2D simulation model\n",
        "For 1D CAs, we could use a 2D image to visualize the CA progression over time.\n",
        "For 2D CAs, we could try using time as a 3rd axis to generate a 3D visualziation, but without VR, its hard to explore a 3D visualization.\n",
        "Instead, we'll use a simple 2D [\"stop motion\" animation](https://en.wikipedia.org/wiki/Animation).\n",
        "Here is a generic class that animates any 2D model that provides step() and draw() methods, and uses matplotlib to render its state.\n",
        "\n",
        "See [Matplotlib animation in Jupyter](https://www.allendowney.com/blog/2019/07/25/matplotlib-animation-in-jupyter/) by our textbook author for a discussion of the pros and cons of various animation techniques in jupyter notebooks."
      ],
      "metadata": {
        "collapsed": false,
        "pycharm": {
          "name": "#%% md\n"
        },
        "id": "eMcxFzLll5Vk"
      }
    },
    {
      "cell_type": "code",
      "execution_count": 5,
      "outputs": [],
      "source": [
        "class Animation2D:\n",
        "    \"\"\"\n",
        "      Animates any 2D model with a step() method and a draw() method, using matplotlib\n",
        "      model.step() should take no parameters - just step the model forward one step.\n",
        "      model.draw() should take 2 parameters, the matpltolib axes to draw on and an integer step number\n",
        "    \"\"\"\n",
        "\n",
        "    def __init__(self, model, frames=50, figsize=(8, 8)):\n",
        "        \"\"\"\n",
        "        :param model: the simulation object to animate, with step() and draw(axes, step) methods\n",
        "        :param frames: number of animation frames to generate\n",
        "        \"\"\"\n",
        "        self.model = model\n",
        "        self.frames = frames\n",
        "        self.fig, self.ax = plt.subplots(figsize=figsize)\n",
        "\n",
        "    def animation_step(self, step):\n",
        "        \"\"\" Step the model forward and draw the plot \"\"\"\n",
        "        if step > 0:\n",
        "            self.model.step()\n",
        "        self.model.draw(self.ax, step=step)\n",
        "\n",
        "    def show(self):\n",
        "        \"\"\" return the matplotlib animation object, ready for display \"\"\"\n",
        "        anim = animation.FuncAnimation(self.fig, self.animation_step, frames=self.frames)\n",
        "        plt.close()  # this ensures the last frame is not shown as a separate plot\n",
        "        return anim\n",
        "\n",
        "    def animate(self, interval=None):\n",
        "        \"\"\" Animate the model simulation directly in the notebook display block \"\"\"\n",
        "        from IPython.display import clear_output\n",
        "        try:\n",
        "            for i in range(self.frames):\n",
        "                clear_output(wait=True)  # clear the IPython display\n",
        "                self.ax.clear()          # clear old image from the axes (fixes a performance issue)\n",
        "                plt.figure(self.fig)     # add the figure back to pyplot ** sigh **\n",
        "                self.animation_step(i)\n",
        "                plt.show()               # show the current animation frame (pyplot then closes and throws away figure ** sigh **)\n",
        "                if interval:\n",
        "                    time.sleep(interval)\n",
        "        except KeyboardInterrupt:\n",
        "            pass"
      ],
      "metadata": {
        "pycharm": {
          "name": "#%%\n"
        },
        "ExecuteTime": {
          "end_time": "2024-01-06T00:59:30.727443Z",
          "start_time": "2024-01-06T00:59:30.724530Z"
        },
        "id": "z4-HGpu_l5Vk"
      }
    },
    {
      "cell_type": "markdown",
      "source": [
        "### Sample usage\n",
        "Animate a single glider..."
      ],
      "metadata": {
        "collapsed": false,
        "pycharm": {
          "name": "#%% md\n"
        },
        "id": "_M9D2Ms7l5Vk"
      }
    },
    {
      "cell_type": "code",
      "execution_count": 6,
      "outputs": [
        {
          "output_type": "display_data",
          "data": {
            "text/plain": [
              "<Figure size 800x800 with 1 Axes>"
            ],
            "image/png": "[encoded data removed]"
          },
          "metadata": {}
        }
      ],
      "source": [
        "size = 10\n",
        "life = Life2D(size)\n",
        "glider = np.array([[0, 1, 0], [0, 0, 1], [1, 1, 1]], dtype=np.uint8)\n",
        "life.state[1:4, 2:5] = glider             # bad idea to alter an objects state directly!  We'll improve it in Ex. 3\n",
        "gol = Animation2D(life, frames=20)\n",
        "gol.animate()"
      ],
      "metadata": {
        "pycharm": {
          "name": "#%%\n"
        },
        "id": "IPx3yfAVl5Vl",
        "outputId": "c15937eb-dafd-4437-c751-c5c63fa8719c",
        "colab": {
          "base_uri": "https://localhost:8080/",
          "height": 675
        }
      }
    },
    {
      "cell_type": "markdown",
      "source": [
        "## Exercise 1:  Enumerate all Elementary 2D CA's\n",
        "Write a line or 2 of code to compute and print the answer for each question:\n",
        "* how many unique states are there for a 3x3 (9 cell) neighbourhood?\n",
        "* how many unique “rules” are there? (where a rule provides a mapping for each possible neighbourhood state to the output for the centre cell)\n",
        "* how does this number compare, for example, to the [number of atoms in the observable universe?](https://en.wikipedia.org/wiki/Observable_universe#Matter_content%E2%80%94number_of_atoms)"
      ],
      "metadata": {
        "collapsed": false,
        "id": "EGnc-wRJl5Vl"
      }
    },
    {
      "cell_type": "code",
      "execution_count": 7,
      "outputs": [
        {
          "output_type": "stream",
          "name": "stdout",
          "text": [
            "Number of unique states for a 3x3 neighborhood: 512\n",
            "Number of unique rules: 13407807929942597099574024998205846127479365820592393377723561443721764030073546976801874298166903427690031858186486050853753882811946569946433649006084096\n",
            "Is the number of rules larger than the estimated atoms in the universe? True\n"
          ]
        }
      ],
      "source": [
        "# Ex. 1 your code here...\n",
        "# Computing the number of unique states for a 3x3 neighborhood\n",
        "num_states = 2**9\n",
        "print(\"Number of unique states for a 3x3 neighborhood:\", num_states)\n",
        "\n",
        "# Computing the number of unique rules\n",
        "num_rules = 2**num_states\n",
        "print(\"Number of unique rules:\", num_rules)\n",
        "\n",
        "# Estimating number of atoms in the observable universe\n",
        "atoms_in_universe = 10**80\n",
        "\n",
        "# Comparing the two\n",
        "print(\"Is the number of rules larger than the estimated atoms in the universe?\",\n",
        "      num_rules > atoms_in_universe)\n"
      ],
      "metadata": {
        "pycharm": {
          "name": "#%%\n"
        },
        "ExecuteTime": {
          "end_time": "2024-01-06T00:59:32.380370Z",
          "start_time": "2024-01-06T00:59:32.378662Z"
        },
        "id": "C5Vg1SV_l5Vl",
        "outputId": "659d9d83-fc63-4901-c2cf-a1d7a8274722",
        "colab": {
          "base_uri": "https://localhost:8080/"
        }
      }
    },
    {
      "cell_type": "markdown",
      "source": [
        "Using what you learned above, concisely answer each question below (point form)1\n",
        "1. would it be a reasonable goal to conduct an experiment like Wolfram’s for 2D CA’s?\n",
        "2. propose a numbering scheme for these rules, analogous to Wolfram’s rule numbers\n",
        "3. how might we go about determining which rule number corresponds to Conway’s GoL?\n",
        "   (I’m not asking for the number, but rather for a method you could use to find it.)"
      ],
      "metadata": {
        "collapsed": false,
        "pycharm": {
          "name": "#%% md\n"
        },
        "id": "2SHEsEhql5Vl"
      }
    },
    {
      "cell_type": "markdown",
      "source": [
        "#### Ex 1. Your Answers\n",
        "\n",
        "1. . No, because the number of unique rules (2^326) is enormously large, making it impossible to systematically explore them all. However sampling and classifying them in terms of behaviour like stable, chaotic, cyclic etc. can be possible with computational techniques.\n",
        "2. . Each of the 2^9 possible neighbourhood states maps to 0 or 1, forming a 512-bit binary rule string. We can convert this string into a decimal number to create a unique \"rule number\" similar to Wolfram's 1D approach.\n",
        "3. . Generate the binary rule string by iterating over all 2^9 neighbourhood states and recording the output based on GoL's rules then this binary representation can be coverted into a decimal value to obtain Conway's specific rule number."
      ],
      "metadata": {
        "collapsed": false,
        "id": "l90cNuZrl5Vl"
      }
    },
    {
      "cell_type": "markdown",
      "source": [
        "## Exercise 2: random_life\n",
        "Extend the Life2D class defined above to allow the game to be initialized with a random start state.\n",
        "The liklihood of any given cell being initialized to \"alive\" is given by $p$.\n",
        "*Hint*: we did this exact exercise for a 1D array in previous lab"
      ],
      "metadata": {
        "collapsed": false,
        "pycharm": {
          "name": "#%% md\n"
        },
        "id": "-P8e_MVIl5Vl"
      }
    },
    {
      "cell_type": "code",
      "execution_count": 8,
      "outputs": [],
      "source": [
        "# Ex. 2 experimental setup\n",
        "\n",
        "class BetterLife2D(Life2D):\n",
        "    \"\"\" Improvements on the basic Life2D model \"\"\"\n",
        "\n",
        "    def randomize_state(self, p):\n",
        "        \"\"\" Randomize the state of this GoL, where probability of a \"live\" cell is p \"\"\"\n",
        "        # Ex. 2 your code here...\n",
        "        self.state = np.random.choice([0, 1], size=self.state.shape, p=[1 - p, p])\n",
        "\n",
        "\n",
        "def random_life(n_rows, n_cols=None, p=0.5):\n",
        "    \"\"\" Return a Life2D object of given dimensions with initial randomized state where \"live\" cells have probability p \"\"\"\n",
        "    # Ex. 2 your code here...\n",
        "    life = BetterLife2D(n_rows, n_cols)\n",
        "    life.randomize_state(p)\n",
        "    return life"
      ],
      "metadata": {
        "pycharm": {
          "name": "#%%\n"
        },
        "ExecuteTime": {
          "end_time": "2024-01-06T00:59:32.383669Z",
          "start_time": "2024-01-06T00:59:32.381110Z"
        },
        "id": "w4cpfDudl5Vl"
      }
    },
    {
      "cell_type": "markdown",
      "source": [
        "### Experiment\n",
        "Run a small experiment to see if you can identify any relationship between $p$, the probability of a live cell in the initial grid, and the time it takes for the GoL pattern to stabilize."
      ],
      "metadata": {
        "collapsed": false,
        "pycharm": {
          "name": "#%% md\n"
        },
        "id": "Zt5mQ0PVl5Vl"
      }
    },
    {
      "cell_type": "code",
      "execution_count": 9,
      "outputs": [
        {
          "output_type": "display_data",
          "data": {
            "text/plain": [
              "<Figure size 800x500 with 1 Axes>"
            ],
            "image/png": "[encoded data removed]"
          },
          "metadata": {}
        }
      ],
      "source": [
        "# Ex. 2 write code for your experiment here...\n",
        "def measure_stabilization_time(n_rows=20, n_cols=20, p=0.5, max_steps=100):\n",
        "    \"\"\"Runs a GoL simulation and returns the number of steps before stabilization.\"\"\"\n",
        "    life = random_life(n_rows, n_cols, p)\n",
        "    prev_state = None\n",
        "\n",
        "    for step in range(max_steps):\n",
        "        if np.array_equal(life.state, prev_state):  # Check if the state stops changing\n",
        "            return step\n",
        "        prev_state = life.state.copy()\n",
        "        life.step()\n",
        "\n",
        "    return max_steps  # If not stabilized within max_steps, return max_steps\n",
        "\n",
        "# Run the experiment\n",
        "p_values = np.arange(0.1, 1.0, 0.1)  # Probabilities from 0.1 to 0.9\n",
        "stabilization_times = [measure_stabilization_time(p=p) for p in p_values]\n",
        "\n",
        "# Plot results\n",
        "plt.figure(figsize=(8, 5))\n",
        "plt.plot(p_values, stabilization_times, marker='o', linestyle='-', color='b')\n",
        "plt.xlabel(\"Initial Probability of Live Cell (p)\")\n",
        "plt.ylabel(\"Steps to Stabilization\")\n",
        "plt.title(\"Effect of Initial Density on Stabilization Time in Game of Life\")\n",
        "plt.grid(True)\n",
        "plt.show()"
      ],
      "metadata": {
        "pycharm": {
          "name": "#%%\n"
        },
        "ExecuteTime": {
          "end_time": "2024-01-06T00:59:32.386367Z",
          "start_time": "2024-01-06T00:59:32.383563Z"
        },
        "id": "Obsdq4Pyl5Vl",
        "outputId": "1d030698-0910-4c80-da2e-c104617f07d6",
        "colab": {
          "base_uri": "https://localhost:8080/",
          "height": 453
        }
      }
    },
    {
      "cell_type": "markdown",
      "source": [
        "## Exercise 3: Load Patterns\n",
        "People have discovered many interesting [\"patterns\"](https://conwaylife.com/wiki/Category:Patterns) that exhibit various types of behaviours.\n",
        "A \"pattern\" is just a small 2D array.\n",
        " 1. Develop a function that returns a 2D array containing the patterns defined by a single string; and\n",
        " 2. Add a `load_pattern(x, y, pattern)` method to your `BetterLife2D` class above to insert patterns into the Life state array\n",
        "    *Tip*: you can [assign an entire 2D slice of a numpy array](https://www.nickmccullum.com/advanced-python/numpy-indexing-assignment/) in a single assignment statement!   See example in the Sample Usage block above. Try it!"
      ],
      "metadata": {
        "collapsed": false,
        "pycharm": {
          "name": "#%% md\n"
        },
        "id": "1VtDf5J4l5Vl"
      }
    },
    {
      "cell_type": "code",
      "execution_count": 10,
      "outputs": [
        {
          "output_type": "display_data",
          "data": {
            "text/plain": [
              "<Figure size 500x500 with 1 Axes>"
            ],
            "image/png": "[encoded data removed]"
          },
          "metadata": {}
        }
      ],
      "source": [
        "# Here's an example of the glider pattern from above defined in a single string...\n",
        "glider_pattern = \\\n",
        "    \"\"\"\n",
        "    010\n",
        "    001\n",
        "    111\n",
        "    \"\"\"\n",
        "\n",
        "# Ex. 3 your code here...\n",
        "class Life2D:\n",
        "    def __init__(self, rows, cols):\n",
        "        self.state = np.zeros((rows, cols), dtype=np.uint8)\n",
        "\n",
        "    def draw(self, ax, step):\n",
        "        ax.imshow(self.state, cmap='binary')\n",
        "        ax.set_title(f'Step: {step}')\n",
        "        ax.axis('off')\n",
        "\n",
        "class BetterLife2D(Life2D):\n",
        "    def load_pattern(self, x, y, pattern):\n",
        "        pattern_array = self.string_to_pattern(pattern)\n",
        "        if (x + pattern_array.shape[0] <= self.state.shape[0] and\n",
        "            y + pattern_array.shape[1] <= self.state.shape[1]):\n",
        "            self.state[x:x + pattern_array.shape[0], y:y + pattern_array.shape[1]] = pattern_array\n",
        "        else:\n",
        "            raise ValueError(\"Pattern does not fit in the state array\")\n",
        "\n",
        "    def string_to_pattern(self, pattern_string):\n",
        "        return np.array([[int(cell) for cell in line.strip()] for line in pattern_string.strip().splitlines()], dtype=np.uint8)\n",
        "\n",
        "    def step(self):\n",
        "        new_state = np.copy(self.state)\n",
        "        for i in range(self.state.shape[0]):\n",
        "            for j in range(self.state.shape[1]):\n",
        "                total = (self.state[i, (j-1) % self.state.shape[1]] + self.state[i, (j+1) % self.state.shape[1]] +\n",
        "                         self.state[(i-1) % self.state.shape[0], j] + self.state[(i+1) % self.state.shape[0], j] +\n",
        "                         self.state[(i-1) % self.state.shape[0], (j-1) % self.state.shape[1]] +\n",
        "                         self.state[(i-1) % self.state.shape[0], (j+1) % self.state.shape[1]] +\n",
        "                         self.state[(i+1) % self.state.shape[0], (j-1) % self.state.shape[1]] +\n",
        "                         self.state[(i+1) % self.state.shape[0], (j+1) % self.state.shape[1]])\n",
        "\n",
        "                if self.state[i, j] == 1:\n",
        "                    new_state[i, j] = 1 if total in [2, 3] else 0\n",
        "                else:\n",
        "                    new_state[i, j] = 1 if total == 3 else 0\n",
        "\n",
        "        self.state = new_state\n",
        "\n",
        "# Create an instance of BetterLife2D\n",
        "life = BetterLife2D(20, 20)\n",
        "\n",
        "# Load the glider pattern at position (1, 1)\n",
        "life.load_pattern(1, 1, glider_pattern)\n",
        "\n",
        "# Draw the current state to see the loaded pattern\n",
        "plt.figure(figsize=(5, 5))\n",
        "ax = plt.gca()  # Get the current axis after creating the figure\n",
        "life.draw(ax, step=0)  # Pass the axis and step to the draw method\n",
        "plt.show()"
      ],
      "metadata": {
        "pycharm": {
          "name": "#%%\n"
        },
        "ExecuteTime": {
          "end_time": "2024-01-06T00:59:32.388974Z",
          "start_time": "2024-01-06T00:59:32.385536Z"
        },
        "id": "MFGpuUnql5Vl",
        "outputId": "c6a1a492-1661-41f7-8b47-989cdb4df592",
        "colab": {
          "base_uri": "https://localhost:8080/",
          "height": 444
        }
      }
    },
    {
      "cell_type": "markdown",
      "source": [
        "### Define some patterns\n",
        "User your nifty new function to define a few common, interesting patterns (e.g., from the book or other sources)"
      ],
      "metadata": {
        "collapsed": false,
        "pycharm": {
          "name": "#%% md\n"
        },
        "id": "NkFt2Qx4l5Vl"
      }
    },
    {
      "cell_type": "code",
      "execution_count": 12,
      "outputs": [
        {
          "output_type": "display_data",
          "data": {
            "text/plain": [
              "<Figure size 800x800 with 1 Axes>"
            ],
            "image/png": "[encoded data removed]"
          },
          "metadata": {}
        }
      ],
      "source": [
        "# Ex. 3 define your patterns here...\n",
        "# Define common patterns as multi-line strings\n",
        "# Define common patterns as multi-line strings\n",
        "patterns = {\n",
        "    \"block\": \"\"\"\n",
        "    11\n",
        "    11\n",
        "    \"\"\",\n",
        "    \"beehive\": \"\"\"\n",
        "    00100\n",
        "    01010\n",
        "    00100\n",
        "    \"\"\",\n",
        "    \"loaf\": \"\"\"\n",
        "    01100\n",
        "    10010\n",
        "    01001\n",
        "    00100\n",
        "    \"\"\",\n",
        "    \"boat\": \"\"\"\n",
        "    0110\n",
        "    1001\n",
        "    0010\n",
        "    \"\"\",\n",
        "    \"blinker\": \"\"\"\n",
        "    000\n",
        "    111\n",
        "    000\n",
        "    \"\"\",\n",
        "    \"toad\": \"\"\"\n",
        "    00000\n",
        "    01110\n",
        "    11100\n",
        "    00000\n",
        "    \"\"\",\n",
        "    \"glider\": \"\"\"\n",
        "    010\n",
        "    001\n",
        "    111\n",
        "    \"\"\",\n",
        "    \"lwss\": \"\"\"\n",
        "    00100\n",
        "    10010\n",
        "    11000\n",
        "    00101\n",
        "    \"\"\"\n",
        "}\n",
        "\n",
        "# Create an instance of BetterLife2D\n",
        "life = BetterLife2D(20, 20)\n",
        "\n",
        "# Load each pattern into the Life state at random positions\n",
        "for pattern_name, pattern_str in patterns.items():\n",
        "    # Calculate random position for each pattern\n",
        "    x = np.random.randint(0, life.state.shape[0] - life.string_to_pattern(pattern_str).shape[0] + 1)\n",
        "    y = np.random.randint(0, life.state.shape[1] - life.string_to_pattern(pattern_str).shape[1] + 1)\n",
        "\n",
        "    # Load the pattern\n",
        "    life.load_pattern(x, y, pattern_str)\n",
        "\n",
        "# Draw the current state to see the loaded patterns\n",
        "plt.figure(figsize=(8, 8))\n",
        "ax = plt.gca()  # Get current axis\n",
        "life.draw(ax, step=0)  # Draw the current state with step 0\n",
        "plt.title(\"Loaded Patterns in Conway's Game of Life\")\n",
        "plt.show()"
      ],
      "metadata": {
        "pycharm": {
          "name": "#%%\n"
        },
        "ExecuteTime": {
          "end_time": "2024-01-06T00:59:32.389471Z",
          "start_time": "2024-01-06T00:59:32.387944Z"
        },
        "id": "G6iLZ912l5Vl",
        "outputId": "8d47889c-1062-46bb-9b18-6ad3fb3786d4",
        "colab": {
          "base_uri": "https://localhost:8080/",
          "height": 675
        }
      }
    },
    {
      "cell_type": "markdown",
      "source": [
        "### Experiment\n",
        "Load up a BetterLife2D object with some patterns that interact in some interesting way.\n",
        "What can we learn from studying interactions like this?   Is anything here applicable to the real world?"
      ],
      "metadata": {
        "collapsed": false,
        "pycharm": {
          "name": "#%% md\n"
        },
        "id": "DmDsoUlLl5Vm"
      }
    },
    {
      "cell_type": "code",
      "execution_count": 13,
      "outputs": [
        {
          "output_type": "display_data",
          "data": {
            "text/plain": [
              "<Figure size 800x800 with 1 Axes>"
            ],
            "image/png": "[encoded data removed]"
          },
          "metadata": {}
        },
        {
          "output_type": "display_data",
          "data": {
            "text/plain": [
              "<Figure size 800x800 with 1 Axes>"
            ],
            "image/png": "[encoded data removed]"
          },
          "metadata": {}
        },
        {
          "output_type": "display_data",
          "data": {
            "text/plain": [
              "<Figure size 800x800 with 1 Axes>"
            ],
            "image/png": "[encoded data removed]"
          },
          "metadata": {}
        },
        {
          "output_type": "display_data",
          "data": {
            "text/plain": [
              "<Figure size 800x800 with 1 Axes>"
            ],
            "image/png": "[encoded data removed]"
          },
          "metadata": {}
        },
        {
          "output_type": "display_data",
          "data": {
            "text/plain": [
              "<Figure size 800x800 with 1 Axes>"
            ],
            "image/png": "[encoded data removed]"
          },
          "metadata": {}
        },
        {
          "output_type": "display_data",
          "data": {
            "text/plain": [
              "<Figure size 800x800 with 1 Axes>"
            ],
            "image/png": "[encoded data removed]"
          },
          "metadata": {}
        },
        {
          "output_type": "display_data",
          "data": {
            "text/plain": [
              "<Figure size 800x800 with 1 Axes>"
            ],
            "image/png": "[encoded data removed]"
          },
          "metadata": {}
        },
        {
          "output_type": "display_data",
          "data": {
            "text/plain": [
              "<Figure size 800x800 with 1 Axes>"
            ],
            "image/png": "[encoded data removed]"
          },
          "metadata": {}
        },
        {
          "output_type": "display_data",
          "data": {
            "text/plain": [
              "<Figure size 800x800 with 1 Axes>"
            ],
            "image/png": "[encoded data removed]"
          },
          "metadata": {}
        },
        {
          "output_type": "display_data",
          "data": {
            "text/plain": [
              "<Figure size 800x800 with 1 Axes>"
            ],
            "image/png": "[encoded data removed]"
          },
          "metadata": {}
        },
        {
          "output_type": "display_data",
          "data": {
            "text/plain": [
              "<Figure size 800x800 with 1 Axes>"
            ],
            "image/png": "[encoded data removed]"
          },
          "metadata": {}
        },
        {
          "output_type": "display_data",
          "data": {
            "text/plain": [
              "<Figure size 800x800 with 1 Axes>"
            ],
            "image/png": "[encoded data removed]"
          },
          "metadata": {}
        }
      ],
      "source": [
        "# Define interesting patterns\n",
        "patterns = {\n",
        "    \"glider\": \"\"\"\n",
        "    010\n",
        "    001\n",
        "    111\n",
        "    \"\"\",\n",
        "    \"block\": \"\"\"\n",
        "    11\n",
        "    11\n",
        "    \"\"\",\n",
        "    \"beehive\": \"\"\"\n",
        "    00100\n",
        "    01010\n",
        "    00100\n",
        "    \"\"\",\n",
        "    \"blinker\": \"\"\"\n",
        "    000\n",
        "    111\n",
        "    000\n",
        "    \"\"\",\n",
        "    \"toad\": \"\"\"\n",
        "    00000\n",
        "    01110\n",
        "    11100\n",
        "    00000\n",
        "    \"\"\",\n",
        "}\n",
        "\n",
        "# Create an instance of BetterLife2D\n",
        "life = BetterLife2D(20, 20)\n",
        "\n",
        "# Load patterns at specific positions to encourage interactions\n",
        "life.load_pattern(5, 5, patterns[\"glider\"])\n",
        "life.load_pattern(10, 5, patterns[\"block\"])\n",
        "life.load_pattern(8, 8, patterns[\"beehive\"])\n",
        "life.load_pattern(8, 3, patterns[\"blinker\"])\n",
        "life.load_pattern(7, 1, patterns[\"toad\"])\n",
        "\n",
        "# Function to run the simulation for a specified number of generations\n",
        "def run_simulation(life, generations):\n",
        "    for step in range(generations):\n",
        "        plt.figure(figsize=(8, 8))\n",
        "        ax = plt.gca()  # Get current axis\n",
        "        life.draw(ax, step)  # Draw the current state\n",
        "        plt.title(f'Step: {step}')\n",
        "        plt.show()\n",
        "        life.step()  # Update the state for the next generation\n",
        "\n",
        "# Draw the initial state\n",
        "plt.figure(figsize=(8, 8))\n",
        "ax = plt.gca()\n",
        "life.draw(ax, step=0)\n",
        "plt.title(\"Initial State with Loaded Patterns\")\n",
        "plt.show()\n",
        "\n",
        "# Run the simulation for a number of generations\n",
        "generations = 10\n",
        "run_simulation(life, generations)\n",
        "\n",
        "# Draw the final state after the simulation\n",
        "plt.figure(figsize=(8, 8))\n",
        "ax = plt.gca()\n",
        "life.draw(ax, step=generations)\n",
        "plt.title(f\"State After {generations} Generations\")\n",
        "plt.show()"
      ],
      "metadata": {
        "pycharm": {
          "name": "#%%\n"
        },
        "ExecuteTime": {
          "end_time": "2024-01-06T00:59:32.392005Z",
          "start_time": "2024-01-06T00:59:32.389848Z"
        },
        "id": "kNvtcTxrl5Vm",
        "outputId": "37d7a063-71a0-40a4-ee99-526b5cf28971",
        "colab": {
          "base_uri": "https://localhost:8080/",
          "height": 1000
        }
      }
    },
    {
      "cell_type": "markdown",
      "source": [
        "**Key Learnings**\n",
        "1. Emergence: the game of life illustrates how simple rules can lead to complex behaviours. Patterns like gliders and blinkers can emerge from initial states, demonstrating how intricate behaviors can arise from basic components and rules.\n",
        "2. Stability and Chaos: The game shows how systems can stabilize or become chaotic based on initial conditions. In real-world contexts, such as climate models or market dynamics, small changes can lead to vastly different outcomes, highlighting the importance of initial conditions in predictive modeling.\n",
        "3. Adaptive Systems: The evolution of patterns over generations in the game reflects how biological and social systems adapt to changing environments. This adaptability is essential in areas like biology, urban planning, and technology development.\n",
        "**Real-World Applications**\n",
        "1. Biological Systems: The principles of emergence and interaction can be observed in cellular automata used to model biological processes, such as the spread of diseases, cellular growth, and population dynamics in ecosystems.\n",
        "2. Traffic Flow and Urban Planning: Understanding how individual entities (cars, pedestrians) interact can help in modeling traffic flow and improving urban planning. Simulations similar to the Game of Life can optimize traffic patterns, reduce congestion, and improve public transport systems.\n",
        "3. Artificial Life and Robotics: Concepts from cellular automata and the Game of Life are used in the field of artificial life to study self-organization, cooperation, and competition among agents, informing developments in robotics and AI."
      ],
      "metadata": {
        "id": "otVEd_ruQ-2G"
      }
    }
  ],
  "metadata": {
    "kernelspec": {
      "display_name": "Python 3",
      "language": "python",
      "name": "python3"
    },
    "language_info": {
      "codemirror_mode": {
        "name": "ipython",
        "version": 2
      },
      "file_extension": ".py",
      "mimetype": "text/x-python",
      "name": "python",
      "nbconvert_exporter": "python",
      "pygments_lexer": "ipython2",
      "version": "2.7.6"
    },
    "colab": {
      "provenance": [],
      "include_colab_link": true
    }
  },
  "nbformat": 4,
  "nbformat_minor": 0
}