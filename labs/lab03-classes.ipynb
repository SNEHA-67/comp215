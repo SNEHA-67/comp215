{
  "nbformat": 4,
  "nbformat_minor": 0,
  "metadata": {
    "kernelspec": {
      "display_name": "Python 3",
      "language": "python",
      "name": "python3"
    },
    "language_info": {
      "codemirror_mode": {
        "name": "ipython",
        "version": 2
      },
      "file_extension": ".py",
      "mimetype": "text/x-python",
      "name": "python",
      "nbconvert_exporter": "python",
      "pygments_lexer": "ipython2",
      "version": "2.7.6"
    },
    "colab": {
      "provenance": [],
      "include_colab_link": true
    }
  },
  "cells": [
    {
      "cell_type": "markdown",
      "metadata": {
        "id": "view-in-github",
        "colab_type": "text"
      },
      "source": [
        "<a href=\"https://colab.research.google.com/github/SNEHA-67/comp215/blob/main/labs/lab03-classes.ipynb\" target=\"_parent\"><img src=\"https://colab.research.google.com/assets/colab-badge.svg\" alt=\"Open In Colab\"/></a>"
      ]
    },
    {
      "cell_type": "markdown",
      "source": [
        "COMP 215 - LAB 3\n",
        "----------------\n",
        "#### Name(s): Sneha & Manmeet Sharma\n",
        "#### Date: 22-01-2025\n",
        "\n",
        "By the end of this lab you should be able to:\n",
        "  * use a `class` to organize related data and functions\n",
        "  * identify a `record` as a related collection of data, with fields for each data value\n",
        "\n",
        "During this lab, you will be introduced to the following:\n",
        "  * the `@dataclass` decorator to simplify class definition for classes that primarily encapsulate a data structure.\n",
        "  * the `@classmethod` decorator to create 'object factories'.\n",
        "  * plotting frequency distributions in `matplotlib`\n",
        "\n"
      ],
      "metadata": {
        "id": "nbRPZPKZU5Pk"
      }
    },
    {
      "cell_type": "markdown",
      "source": [
        "## Near Earth Objects (with classes)\n",
        "\n",
        "We'll continue working with Near Earth Object data using NASA's API: https://api.nasa.gov/.  In this lab we will define an Asteroid class to help us structure the data for easier data analysis.  Here's a brief review from Lab 2 on how to use the API.  "
      ],
      "metadata": {
        "id": "j0F0hjKzgQ1W"
      }
    },
    {
      "cell_type": "code",
      "execution_count": 33,
      "outputs": [],
      "source": [
        "# import necessary modules\n",
        "import datetime, json, requests\n",
        "from dataclasses import dataclass\n",
        "from pprint import pprint\n",
        "import matplotlib.pyplot as plt\n",
        "%matplotlib inline"
      ],
      "metadata": {
        "pycharm": {
          "name": "#%%\n"
        },
        "ExecuteTime": {
          "end_time": "2024-01-04T04:10:54.380220Z",
          "start_time": "2024-01-04T04:10:54.335677Z"
        },
        "id": "TLWTJDuVfSzO"
      }
    },
    {
      "cell_type": "markdown",
      "source": [
        "### Review: make an API query\n",
        "\n",
        "Here's a query that gets the record for a single NEO that recently passed by.  Read these functions carefully to be sure you know what they are returning.  Note the nested for loop structure in the return statement of the `get_neos` function - be sure to understand what it is doing.  You might want to add some more `pprint` statements to be sure you understand the data structures."
      ],
      "metadata": {
        "collapsed": false,
        "pycharm": {
          "name": "#%% md\n"
        },
        "id": "ug6L49x3fSzP"
      }
    },
    {
      "cell_type": "code",
      "execution_count": 34,
      "outputs": [
        {
          "output_type": "error",
          "ename": "KeyError",
          "evalue": "'element_count'",
          "traceback": [
            "\u001b[0;31m---------------------------------------------------------------------------\u001b[0m",
            "\u001b[0;31mKeyError\u001b[0m                                  Traceback (most recent call last)",
            "\u001b[0;32m<ipython-input-34-b3a515fa7634>\u001b[0m in \u001b[0;36m<cell line: 0>\u001b[0;34m()\u001b[0m\n\u001b[1;32m     17\u001b[0m \u001b[0;34m\u001b[0m\u001b[0m\n\u001b[1;32m     18\u001b[0m \u001b[0mweek_start\u001b[0m \u001b[0;34m=\u001b[0m \u001b[0;34m'2023-01-15'\u001b[0m\u001b[0;34m\u001b[0m\u001b[0;34m\u001b[0m\u001b[0m\n\u001b[0;32m---> 19\u001b[0;31m \u001b[0mneos\u001b[0m \u001b[0;34m=\u001b[0m \u001b[0mget_neos\u001b[0m\u001b[0;34m(\u001b[0m\u001b[0mweek_start\u001b[0m\u001b[0;34m)\u001b[0m\u001b[0;34m\u001b[0m\u001b[0;34m\u001b[0m\u001b[0m\n\u001b[0m\u001b[1;32m     20\u001b[0m \u001b[0;32massert\u001b[0m \u001b[0mlen\u001b[0m\u001b[0;34m(\u001b[0m\u001b[0mneos\u001b[0m\u001b[0;34m)\u001b[0m \u001b[0;34m>\u001b[0m \u001b[0;36m0\u001b[0m\u001b[0;34m,\u001b[0m \u001b[0;34mf'Oh oh!  No NEOs found for {week_start}'\u001b[0m\u001b[0;34m\u001b[0m\u001b[0;34m\u001b[0m\u001b[0m\n\u001b[1;32m     21\u001b[0m \u001b[0mneo\u001b[0m \u001b[0;34m=\u001b[0m \u001b[0mget_neo\u001b[0m\u001b[0;34m(\u001b[0m\u001b[0mneos\u001b[0m\u001b[0;34m[\u001b[0m\u001b[0;34m-\u001b[0m\u001b[0;36m1\u001b[0m\u001b[0;34m]\u001b[0m\u001b[0;34m[\u001b[0m\u001b[0;34m'id'\u001b[0m\u001b[0;34m]\u001b[0m\u001b[0;34m)\u001b[0m  \u001b[0;31m# get the very latest NEO\u001b[0m\u001b[0;34m\u001b[0m\u001b[0;34m\u001b[0m\u001b[0m\n",
            "\u001b[0;32m<ipython-input-34-b3a515fa7634>\u001b[0m in \u001b[0;36mget_neos\u001b[0;34m(start_date)\u001b[0m\n\u001b[1;32m      7\u001b[0m     \u001b[0mresponse\u001b[0m \u001b[0;34m=\u001b[0m \u001b[0mrequests\u001b[0m\u001b[0;34m.\u001b[0m\u001b[0mrequest\u001b[0m\u001b[0;34m(\u001b[0m\u001b[0;34m\"GET\"\u001b[0m\u001b[0;34m,\u001b[0m \u001b[0murl\u001b[0m\u001b[0;34m,\u001b[0m \u001b[0mheaders\u001b[0m\u001b[0;34m=\u001b[0m\u001b[0;34m{\u001b[0m\u001b[0;34m}\u001b[0m\u001b[0;34m,\u001b[0m \u001b[0mdata\u001b[0m\u001b[0;34m=\u001b[0m\u001b[0;34m{\u001b[0m\u001b[0;34m}\u001b[0m\u001b[0;34m)\u001b[0m\u001b[0;34m\u001b[0m\u001b[0;34m\u001b[0m\u001b[0m\n\u001b[1;32m      8\u001b[0m     \u001b[0mdata\u001b[0m \u001b[0;34m=\u001b[0m \u001b[0mjson\u001b[0m\u001b[0;34m.\u001b[0m\u001b[0mloads\u001b[0m\u001b[0;34m(\u001b[0m\u001b[0mresponse\u001b[0m\u001b[0;34m.\u001b[0m\u001b[0mtext\u001b[0m\u001b[0;34m)\u001b[0m\u001b[0;34m\u001b[0m\u001b[0;34m\u001b[0m\u001b[0m\n\u001b[0;32m----> 9\u001b[0;31m     \u001b[0mprint\u001b[0m\u001b[0;34m(\u001b[0m\u001b[0;34mf'{data[\"element_count\"]} Near Earth Objects found for week of {start_date}'\u001b[0m\u001b[0;34m)\u001b[0m\u001b[0;34m\u001b[0m\u001b[0;34m\u001b[0m\u001b[0m\n\u001b[0m\u001b[1;32m     10\u001b[0m     \u001b[0;32mreturn\u001b[0m \u001b[0;34m[\u001b[0m\u001b[0mneo\u001b[0m \u001b[0;32mfor\u001b[0m \u001b[0mdated_records\u001b[0m \u001b[0;32min\u001b[0m \u001b[0mdata\u001b[0m\u001b[0;34m[\u001b[0m\u001b[0;34m'near_earth_objects'\u001b[0m\u001b[0;34m]\u001b[0m\u001b[0;34m.\u001b[0m\u001b[0mvalues\u001b[0m\u001b[0;34m(\u001b[0m\u001b[0;34m)\u001b[0m \u001b[0;32mfor\u001b[0m \u001b[0mneo\u001b[0m \u001b[0;32min\u001b[0m \u001b[0mdated_records\u001b[0m \u001b[0;34m]\u001b[0m\u001b[0;34m\u001b[0m\u001b[0;34m\u001b[0m\u001b[0m\n\u001b[1;32m     11\u001b[0m \u001b[0;34m\u001b[0m\u001b[0m\n",
            "\u001b[0;31mKeyError\u001b[0m: 'element_count'"
          ]
        }
      ],
      "source": [
        "API_KEY = 'DEMO_KEY'  # substitute your API key here\n",
        "\n",
        "def get_neos(start_date):\n",
        "    \"\"\" Return a list of NEO for the week starting at start_date \"\"\"\n",
        "    url = f'https://api.nasa.gov/neo/rest/v1/feed?start_date={start_date}&api_key={API_KEY}'\n",
        "    # Fetch last week's NEO feed\n",
        "    response = requests.request(\"GET\", url, headers={}, data={})\n",
        "    data = json.loads(response.text)\n",
        "    print(f'{data[\"element_count\"]} Near Earth Objects found for week of {start_date}')\n",
        "    return [neo for dated_records in data['near_earth_objects'].values() for neo in dated_records ]\n",
        "\n",
        "def get_neo(id):\n",
        "    \"\"\" Return a NEO record for the given id \"\"\"\n",
        "    url = f'https://api.nasa.gov/neo/rest/v1/neo/{id}?api_key={API_KEY}'\n",
        "    response = requests.request(\"GET\", url, headers={}, data={})\n",
        "    return json.loads(response.text)\n",
        "\n",
        "week_start = '2023-01-15'\n",
        "neos = get_neos(week_start)\n",
        "assert len(neos) > 0, f'Oh oh!  No NEOs found for {week_start}'\n",
        "neo = get_neo(neos[-1]['id'])  # get the very latest NEO\n",
        "pprint(neo)"
      ],
      "metadata": {
        "collapsed": true,
        "pycharm": {
          "name": "#%%\n"
        },
        "ExecuteTime": {
          "end_time": "2024-01-04T04:11:12.889668Z",
          "start_time": "2024-01-04T04:10:54.383166Z"
        },
        "id": "7Ex-7gB4fSzP",
        "outputId": "4f0d35e0-3ae1-4ec7-a8e2-2745dc83a585",
        "colab": {
          "base_uri": "https://localhost:8080/",
          "height": 366
        }
      }
    },
    {
      "cell_type": "markdown",
      "source": [
        "## Exercise 1:  Define an Asteroid class\n",
        "\n",
        "Define a simple Asteroid class with some basic state variables for a single NEO.  Your Asteroid class should define at least 4 \"state variables:”\n",
        "\n",
        "    id\n",
        "    name\n",
        "    estimated_diameter (m)\n",
        "    is_potentially_hazardous (bool)\n",
        "\n",
        "Operations must include:\n",
        "* `__init__(self, ...)` method to initialize a new Asteroid object with specific data values\n",
        "* `__str__(self)`, and `__repr__(self)` methods that return nicely formatted string representations of the object.\n",
        "\n",
        "Write a little code to test your new class."
      ],
      "metadata": {
        "collapsed": false,
        "pycharm": {
          "name": "#%% md\n"
        },
        "id": "DcpH1nvJfSzP"
      }
    },
    {
      "cell_type": "code",
      "execution_count": 3,
      "outputs": [
        {
          "output_type": "stream",
          "name": "stdout",
          "text": [
            "Asteroid ID: 123456\n",
            "Name: Test Asteroid\n",
            "Estimated Diameter: 1500.50 meters\n",
            "Potentially Hazardous: Yes\n",
            "Asteroid(id='123456', name='Test Asteroid', estimated_diameter=1500.5, is_potentially_hazardous=True)\n"
          ]
        }
      ],
      "source": [
        "# Ex.1 your code here\n",
        "class Asteroid:\n",
        "    def __init__(self, id, name, estimated_diameter, is_potentially_hazardous):\n",
        "        \"\"\"Initialize an Asteroid object with specific attributes.\"\"\"\n",
        "        self.id = id\n",
        "        self.name = name\n",
        "        self.estimated_diameter = estimated_diameter  # in meters\n",
        "        self.is_potentially_hazardous = is_potentially_hazardous  # boolean\n",
        "\n",
        "    def __str__(self):\n",
        "        \"\"\"Return a nicely formatted string representation of the Asteroid object.\"\"\"\n",
        "        hazard_status = \"Yes\" if self.is_potentially_hazardous else \"No\"\n",
        "        return (f\"Asteroid ID: {self.id}\\n\"\n",
        "                f\"Name: {self.name}\\n\"\n",
        "                f\"Estimated Diameter: {self.estimated_diameter:.2f} meters\\n\"\n",
        "                f\"Potentially Hazardous: {hazard_status}\")\n",
        "\n",
        "    def __repr__(self):\n",
        "        \"\"\"Return a formal string representation of the Asteroid object.\"\"\"\n",
        "        return (f\"Asteroid(id='{self.id}', \"\n",
        "                f\"name='{self.name}', \"\n",
        "                f\"estimated_diameter={self.estimated_diameter}, \"\n",
        "                f\"is_potentially_hazardous={self.is_potentially_hazardous})\")\n",
        "\n",
        "# Test code\n",
        "if __name__ == \"__main__\":\n",
        "    # Create an example Asteroid object\n",
        "    test_asteroid = Asteroid(\n",
        "        id=\"123456\",\n",
        "        name=\"Test Asteroid\",\n",
        "        estimated_diameter=1500.5,\n",
        "        is_potentially_hazardous=True\n",
        "    )\n",
        "\n",
        "    # Print the string representation\n",
        "    print(test_asteroid)\n",
        "\n",
        "    # Print the repr representation\n",
        "    print(repr(test_asteroid))\n"
      ],
      "metadata": {
        "pycharm": {
          "name": "#%%\n"
        },
        "ExecuteTime": {
          "end_time": "2024-01-04T04:11:12.891665Z",
          "start_time": "2024-01-04T04:11:12.889274Z"
        },
        "id": "FklvnAw4fSzQ",
        "outputId": "c9057243-b07f-488a-d3ed-ddc0ffc90ce9",
        "colab": {
          "base_uri": "https://localhost:8080/"
        }
      }
    },
    {
      "cell_type": "markdown",
      "source": [
        "## Exercise 2: Make a histogram\n",
        "\n",
        "Create a list of all the Asteroid objects from this week's NEO feed and use the list to create a histogram to visualize the distribution of Asteroid diameters.  To create the historgram use the `hist()` method in the `matplotlib.pyplot` module."
      ],
      "metadata": {
        "id": "1BIePZEEVbhK"
      }
    },
    {
      "cell_type": "code",
      "source": [
        "# Ex.2 your code here\n",
        "week_start = '2023-01-15'\n",
        "neos = get_neos(week_start)\n",
        "assert len(neos) > 0, f'No NEOs found for {week_start}'\n",
        "\n",
        "# Create a list of Asteroid objects\n",
        "asteroids = []\n",
        "for neo in neos:\n",
        "    estimated_diameter = neo['estimated_diameter']['kilometers']['estimated_diameter_max']  # Using max diameter in km\n",
        "    is_potentially_hazardous = neo.get('is_potentially_hazardous', False)  # Use .get() to avoid KeyError\n",
        "\n",
        "    asteroid = Asteroid(\n",
        "        id=neo['id'],\n",
        "        name=neo['name'],\n",
        "        estimated_diameter=estimated_diameter,\n",
        "        is_potentially_hazardous=is_potentially_hazardous\n",
        "    )\n",
        "    asteroids.append(asteroid)\n",
        "\n",
        "# Extract diameters for the histogram\n",
        "diameters = [asteroid.estimated_diameter for asteroid in asteroids]\n",
        "\n",
        "# Create the histogram\n",
        "plt.figure(figsize=(10, 6))\n",
        "plt.hist(diameters, bins=20, edgecolor='black')\n",
        "plt.title('Distribution of Asteroid Diameters')\n",
        "plt.xlabel('Estimated Diameter (km)')\n",
        "plt.ylabel('Number of Asteroids')\n",
        "plt.grid(axis='y', alpha=0.75)\n",
        "plt.show()\n"
      ],
      "metadata": {
        "id": "orJxuk8nVd_B",
        "outputId": "31de81af-d0f8-4aa5-87a6-a06473594166",
        "colab": {
          "base_uri": "https://localhost:8080/",
          "height": 522
        }
      },
      "execution_count": 4,
      "outputs": [
        {
          "output_type": "stream",
          "name": "stdout",
          "text": [
            "117 Near Earth Objects found for week of 2023-01-15\n"
          ]
        },
        {
          "output_type": "display_data",
          "data": {
            "text/plain": [
              "<Figure size 1000x600 with 1 Axes>"
            ],
            "image/png": "[encoded data removed]"
          },
          "metadata": {}
        }
      ]
    },
    {
      "cell_type": "markdown",
      "source": [
        "## Exercise 3: Use `@dataclass` and `@classmethod` to do the same thing\n",
        "\n",
        "Now that you know how to define a simple class, we are going to use a use decorators to simplify (ie. shorten) our class definitions.  You will redefine the Asteroid class in this exercise.  Note that having two different definitions of a class in a single piece of code is very bad practice. I am asking you to do it here just so that you can see the differt ways to define classes.\n",
        "\n",
        " 1. Use the `@dataclass` decorator from the `dataclasses` module to define the Asteroid class.  The `@dataclass` decorator will automatically generate some of the commonly used methods, like `__init()__`, `__repr()__`, and `__eq()__`.  The definition should start like this:\n",
        "    ```\n",
        "    @dataclass\n",
        "    class Asteroid:\n",
        "      ...\n",
        "    ```\n",
        "Write a little code to test your new class.\n",
        "  \n",
        "\n",
        " 2. Use the `@classmethod` decorator to construct a `from_NEO()` 'factory method' inside your Asteroid class that creates Asteroid objects from the NEO API.  The method should take the id for a single NEO, fetche the NEO record from API, constructs a single Asteroid object, and return the Asteroid object representing that NEO.  This kind of method is called a “Factory” because it constructs an object from raw materials.  The object factory method should start like this:\n",
        "    ```\n",
        "    @classmethod\n",
        "    from_NEO(cls, neo_id):\n",
        "        ...\n",
        "    ```\n",
        "Write a little code to test your new method.\n",
        "\n",
        " 3. Use your new Asteroid class to create a list of Asteroid objects.  Use this list to create the same historgram as in Exercise 2.  \n",
        "\n",
        "\n"
      ],
      "metadata": {
        "id": "oae6EWIhQW76"
      }
    },
    {
      "cell_type": "code",
      "source": [
        "# Ex.3 your code here\n",
        "@dataclass\n",
        "class Asteroid:\n",
        "    \"\"\" Class to represent an Asteroid with necessary attributes \"\"\"\n",
        "    id: str\n",
        "    name: str\n",
        "    estimated_diameter: float  # in meters\n",
        "    is_potentially_hazardous: bool\n",
        "\n",
        "    @classmethod\n",
        "    def from_NEO(cls, neo):\n",
        "        \"\"\" Factory method to create an Asteroid from NEO data \"\"\"\n",
        "        estimated_diameter = neo['estimated_diameter']['kilometers']['estimated_diameter_max']\n",
        "        is_potentially_hazardous = neo.get('is_potentially_hazardous', False)\n",
        "        return cls(\n",
        "            id=neo['id'],\n",
        "            name=neo['name'],\n",
        "            estimated_diameter=estimated_diameter,\n",
        "            is_potentially_hazardous=is_potentially_hazardous\n",
        "        )\n",
        "\n",
        "# Fetch NEO data and create a list of Asteroid objects\n",
        "week_start = '2023-01-15'\n",
        "neos = get_neos(week_start)\n",
        "assert len(neos) > 0, f'Oh oh! No NEOs found for {week_start}'\n",
        "\n",
        "# Create a list of Asteroid objects using the factory method\n",
        "asteroids = [Asteroid.from_NEO(neo) for neo in neos]\n",
        "\n",
        "# Extract diameters for the histogram\n",
        "diameters = [asteroid.estimated_diameter for asteroid in asteroids]\n",
        "\n",
        "# Create the histogram\n",
        "plt.figure(figsize=(10, 6))\n",
        "plt.hist(diameters, bins=20, edgecolor='black')\n",
        "plt.title('Distribution of Asteroid Diameters')\n",
        "plt.xlabel('Estimated Diameter (km)')\n",
        "plt.ylabel('Number of Asteroids')\n",
        "plt.grid(axis='y', alpha=0.75)\n",
        "plt.show()"
      ],
      "metadata": {
        "id": "ygUi21mXX25Y",
        "outputId": "8947c69b-0fdb-46f5-cdb5-04f4cce851f6",
        "colab": {
          "base_uri": "https://localhost:8080/",
          "height": 522
        }
      },
      "execution_count": 5,
      "outputs": [
        {
          "output_type": "stream",
          "name": "stdout",
          "text": [
            "117 Near Earth Objects found for week of 2023-01-15\n"
          ]
        },
        {
          "output_type": "display_data",
          "data": {
            "text/plain": [
              "<Figure size 1000x600 with 1 Axes>"
            ],
            "image/png": "[encoded data removed]"
          },
          "metadata": {}
        }
      ]
    },
    {
      "cell_type": "markdown",
      "source": [
        "## Challenge Exercise:\n",
        "\n",
        "One of your esteemed astromoner collegues has a theory that there is a correlation between the diameter and the orbital period of an asteroid.  Add the `orbital_period` data from the NEO API to your Asteroid class definition and use it to plot the orbital period (in years) versus the estimated diameter (in m) of all the asteroids from this week's NEO record.  Do you see a correlation?"
      ],
      "metadata": {
        "id": "4TznF_wiZJqu"
      }
    },
    {
      "cell_type": "code",
      "source": [
        "import requests\n",
        "import json\n",
        "import numpy as np\n",
        "import matplotlib.pyplot as plt\n",
        "from pprint import pprint\n",
        "\n",
        "API_KEY = 'DEMO_KEY'  # Substitute your API key here\n",
        "\n",
        "def get_neos(start_date):\n",
        "    \"\"\"Return a list of NEOs for the week starting at start_date.\"\"\"\n",
        "    url = f'https://api.nasa.gov/neo/rest/v1/feed?start_date={start_date}&api_key={API_KEY}'\n",
        "    response = requests.get(url)\n",
        "\n",
        "    if response.status_code != 200:\n",
        "        print(f\"Error fetching NEOs: {response.status_code}\")\n",
        "        return []\n",
        "\n",
        "    data = json.loads(response.text)\n",
        "    print(f'{data[\"element_count\"]} Near Earth Objects found for week of {start_date}')\n",
        "    return [neo for dated_records in data['near_earth_objects'].values() for neo in dated_records]\n",
        "\n",
        "def get_neo(id):\n",
        "    \"\"\"Return a NEO record for the given id.\"\"\"\n",
        "    url = f'https://api.nasa.gov/neo/rest/v1/neo/{id}?api_key={API_KEY}'\n",
        "    response = requests.get(url)\n",
        "\n",
        "    if response.status_code != 200:\n",
        "        print(f\"Error fetching NEO with ID {id}: {response.status_code}\")\n",
        "        return {}\n",
        "\n",
        "    return json.loads(response.text)\n",
        "\n",
        "# Step 1: Define the Asteroid class\n",
        "class Asteroid:\n",
        "    def __init__(self, name, diameter, orbital_period):\n",
        "        self.name = name\n",
        "        self.diameter = diameter  # Diameter in meters\n",
        "        self.orbital_period = orbital_period  # Orbital period in days\n",
        "\n",
        "    def __repr__(self):\n",
        "        return f\"Asteroid(name={self.name}, diameter={self.diameter}, orbital_period={self.orbital_period})\"\n",
        "\n",
        "# Step 2: Fetch NEO data for the week starting from a specific date\n",
        "week_start = '2023-01-15'\n",
        "neos = get_neos(week_start)\n",
        "\n",
        "# Ensure we have NEOs to work with\n",
        "assert len(neos) > 0, f'Oh oh! No NEOs found for {week_start}'\n",
        "\n",
        "# Step 3: Create a list of Asteroid objects\n",
        "asteroids = []\n",
        "\n",
        "for neo in neos:\n",
        "    neo_details = get_neo(neo['id'])\n",
        "    if neo_details:\n",
        "        name = neo_details.get('name')\n",
        "        diameter = neo_details.get('estimated_diameter', {}).get('meters', {}).get('estimated_diameter_max', 0)\n",
        "        orbital_data = neo_details.get('orbital_data', {})\n",
        "        orbital_period = orbital_data.get('orbital_period', 0.0)  # Get orbital period in days\n",
        "\n",
        "        # Create an Asteroid object and add it to the list\n",
        "        asteroid = Asteroid(name, diameter, orbital_period)\n",
        "        asteroids.append(asteroid)\n",
        "\n",
        "# Step 4: Prepare data for plotting\n",
        "diameters = [asteroid.diameter for asteroid in asteroids]\n",
        "orbital_periods = [asteroid.orbital_period for asteroid in asteroids]\n",
        "\n",
        "# Step 5: Create the scatter plot\n",
        "plt.figure(figsize=(12, 6))\n",
        "plt.scatter(diameters, orbital_periods, alpha=0.6, s=100)\n",
        "plt.title('Orbital Period vs. Diameter of Asteroids')\n",
        "plt.xlabel('Diameter (m)')\n",
        "plt.ylabel('Orbital Period (days)')\n",
        "plt.grid(True)\n",
        "\n",
        "# Step 6: Show the plot\n",
        "plt.show()\n",
        "\n",
        "# Step 7: Calculate and display the correlation coefficient\n",
        "correlation_coefficient = np.corrcoef(diameters, orbital_periods)[0, 1]\n",
        "print(f'Correlation coefficient: {correlation_coefficient}')\n"
      ],
      "metadata": {
        "id": "bXJbBGDHZWjP",
        "outputId": "c6758e8b-1691-435a-ab20-d1b3ef50cee8",
        "colab": {
          "base_uri": "https://localhost:8080/",
          "height": 238
        }
      },
      "execution_count": 32,
      "outputs": [
        {
          "output_type": "stream",
          "name": "stdout",
          "text": [
            "Error fetching NEOs: 429\n"
          ]
        },
        {
          "output_type": "error",
          "ename": "AssertionError",
          "evalue": "Oh oh! No NEOs found for 2023-01-15",
          "traceback": [
            "\u001b[0;31m---------------------------------------------------------------------------\u001b[0m",
            "\u001b[0;31mAssertionError\u001b[0m                            Traceback (most recent call last)",
            "\u001b[0;32m<ipython-input-32-b9c97961ccf9>\u001b[0m in \u001b[0;36m<cell line: 0>\u001b[0;34m()\u001b[0m\n\u001b[1;32m     46\u001b[0m \u001b[0;34m\u001b[0m\u001b[0m\n\u001b[1;32m     47\u001b[0m \u001b[0;31m# Ensure we have NEOs to work with\u001b[0m\u001b[0;34m\u001b[0m\u001b[0;34m\u001b[0m\u001b[0m\n\u001b[0;32m---> 48\u001b[0;31m \u001b[0;32massert\u001b[0m \u001b[0mlen\u001b[0m\u001b[0;34m(\u001b[0m\u001b[0mneos\u001b[0m\u001b[0;34m)\u001b[0m \u001b[0;34m>\u001b[0m \u001b[0;36m0\u001b[0m\u001b[0;34m,\u001b[0m \u001b[0;34mf'Oh oh! No NEOs found for {week_start}'\u001b[0m\u001b[0;34m\u001b[0m\u001b[0;34m\u001b[0m\u001b[0m\n\u001b[0m\u001b[1;32m     49\u001b[0m \u001b[0;34m\u001b[0m\u001b[0m\n\u001b[1;32m     50\u001b[0m \u001b[0;31m# Step 3: Create a list of Asteroid objects\u001b[0m\u001b[0;34m\u001b[0m\u001b[0;34m\u001b[0m\u001b[0m\n",
            "\u001b[0;31mAssertionError\u001b[0m: Oh oh! No NEOs found for 2023-01-15"
          ]
        }
      ]
    }
  ]
}